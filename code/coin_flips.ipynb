{
 "cells": [
  {
   "cell_type": "code",
   "execution_count": null,
   "id": "timely-asthma",
   "metadata": {},
   "outputs": [],
   "source": [
    "import pyspark as ps"
   ]
  },
  {
   "cell_type": "code",
   "execution_count": null,
   "id": "taken-packet",
   "metadata": {},
   "outputs": [],
   "source": [
    "sc = ps.SparkContext()"
   ]
  },
  {
   "cell_type": "code",
   "execution_count": null,
   "id": "complimentary-range",
   "metadata": {},
   "outputs": [],
   "source": [
    "sc"
   ]
  },
  {
   "cell_type": "code",
   "execution_count": null,
   "id": "square-number",
   "metadata": {},
   "outputs": [],
   "source": [
    "import random"
   ]
  },
  {
   "cell_type": "code",
   "execution_count": null,
   "id": "rapid-reaction",
   "metadata": {},
   "outputs": [],
   "source": [
    "nflip = 1000000"
   ]
  },
  {
   "cell_type": "code",
   "execution_count": null,
   "id": "minute-decimal",
   "metadata": {},
   "outputs": [],
   "source": [
    "%%time\n",
    "coins = sc.parallelize(range(nflip))\n",
    "#1 Distributed data structure"
   ]
  },
  {
   "cell_type": "code",
   "execution_count": null,
   "id": "speaking-mambo",
   "metadata": {},
   "outputs": [],
   "source": [
    "coins"
   ]
  },
  {
   "cell_type": "code",
   "execution_count": null,
   "id": "fourth-salvation",
   "metadata": {},
   "outputs": [],
   "source": [
    "%%time\n",
    "flips = coins.map(lambda x: random.random())\n",
    "#2 Method chaining"
   ]
  },
  {
   "cell_type": "code",
   "execution_count": null,
   "id": "advisory-share",
   "metadata": {},
   "outputs": [],
   "source": [
    "%%time\n",
    "flips.take(10)\n",
    "#3 lazy results"
   ]
  },
  {
   "cell_type": "code",
   "execution_count": null,
   "id": "canadian-vertex",
   "metadata": {},
   "outputs": [],
   "source": [
    "heads = flips.filter(lambda x: x < 0.5)"
   ]
  },
  {
   "cell_type": "code",
   "execution_count": null,
   "id": "refined-terminology",
   "metadata": {},
   "outputs": [],
   "source": [
    "heads.count()"
   ]
  },
  {
   "cell_type": "code",
   "execution_count": null,
   "id": "adjacent-drain",
   "metadata": {},
   "outputs": [],
   "source": [
    "heads.take(5)"
   ]
  }
 ],
 "metadata": {
  "kernelspec": {
   "display_name": "Python 3",
   "language": "python",
   "name": "python3"
  },
  "language_info": {
   "codemirror_mode": {
    "name": "ipython",
    "version": 3
   },
   "file_extension": ".py",
   "mimetype": "text/x-python",
   "name": "python",
   "nbconvert_exporter": "python",
   "pygments_lexer": "ipython3",
   "version": "3.8.8"
  }
 },
 "nbformat": 4,
 "nbformat_minor": 5
}
