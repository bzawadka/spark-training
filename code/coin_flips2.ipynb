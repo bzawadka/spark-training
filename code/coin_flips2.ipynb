{
 "cells": [
  {
   "cell_type": "code",
   "execution_count": null,
   "id": "polar-burning",
   "metadata": {},
   "outputs": [],
   "source": [
    "import pyspark as ps"
   ]
  },
  {
   "cell_type": "code",
   "execution_count": null,
   "id": "animated-female",
   "metadata": {},
   "outputs": [],
   "source": [
    "import random"
   ]
  },
  {
   "cell_type": "code",
   "execution_count": null,
   "id": "gothic-tobago",
   "metadata": {},
   "outputs": [],
   "source": [
    "sc = ps.SparkContext()"
   ]
  },
  {
   "cell_type": "code",
   "execution_count": null,
   "id": "useful-heather",
   "metadata": {},
   "outputs": [],
   "source": [
    "flips = 1000000"
   ]
  },
  {
   "cell_type": "code",
   "execution_count": null,
   "id": "blank-round",
   "metadata": {},
   "outputs": [],
   "source": [
    "coinsRange = range(flips)"
   ]
  },
  {
   "cell_type": "code",
   "execution_count": null,
   "id": "prostate-spouse",
   "metadata": {},
   "outputs": [],
   "source": [
    "headsCount = sc.parallelize(coinsRange) \\\n",
    "    .map(lambda i: random.random()) \\\n",
    "    .filter(lambda r: r < 0.51) \\\n",
    "    .count()"
   ]
  },
  {
   "cell_type": "code",
   "execution_count": null,
   "id": "modified-chambers",
   "metadata": {},
   "outputs": [],
   "source": [
    "print(headsCount, \"heads flipped!\")"
   ]
  }
 ],
 "metadata": {
  "kernelspec": {
   "display_name": "Python 3",
   "language": "python",
   "name": "python3"
  },
  "language_info": {
   "codemirror_mode": {
    "name": "ipython",
    "version": 3
   },
   "file_extension": ".py",
   "mimetype": "text/x-python",
   "name": "python",
   "nbconvert_exporter": "python",
   "pygments_lexer": "ipython3",
   "version": "3.8.8"
  }
 },
 "nbformat": 4,
 "nbformat_minor": 5
}
