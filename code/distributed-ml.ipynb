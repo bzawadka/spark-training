{
 "cells": [
  {
   "cell_type": "code",
   "execution_count": 1,
   "id": "rocky-elevation",
   "metadata": {},
   "outputs": [],
   "source": [
    "from pyspark.ml import Pipeline\n",
    "from pyspark.ml.classification import LogisticRegression\n",
    "from pyspark.ml.evaluation import BinaryClassificationEvaluator\n",
    "from pyspark.ml.feature import HashingTF, Tokenizer\n",
    "from pyspark.ml.tuning import CrossValidator, ParamGridBuilder\n",
    "\n",
    "from pyspark.sql import SparkSession\n",
    "from pyspark.sql.functions import split, regexp_replace, lower, col, explode, regexp_extract\n",
    "from pyspark.ml.feature import StopWordsRemover\n",
    "from pyspark.ml.feature import CountVectorizer\n",
    "from pyspark.ml.tuning import ParamGridBuilder, TrainValidationSplit\n",
    "\n",
    "spark = SparkSession.builder.getOrCreate()"
   ]
  },
  {
   "cell_type": "code",
   "execution_count": 2,
   "id": "intermediate-perry",
   "metadata": {},
   "outputs": [
    {
     "name": "stdout",
     "output_type": "stream",
     "text": [
      "root\n",
      " |-- AcceptedAnswerId: long (nullable = true)\n",
      " |-- AnswerCount: long (nullable = true)\n",
      " |-- Body: string (nullable = true)\n",
      " |-- CommentCount: long (nullable = true)\n",
      " |-- ContentLicense: string (nullable = true)\n",
      " |-- CreationDate: timestamp (nullable = true)\n",
      " |-- FavoriteCount: long (nullable = true)\n",
      " |-- Id: long (nullable = true)\n",
      " |-- LastActivityDate: timestamp (nullable = true)\n",
      " |-- OwnerUserId: long (nullable = true)\n",
      " |-- PostTypeId: long (nullable = true)\n",
      " |-- Score: long (nullable = true)\n",
      " |-- Tags: string (nullable = true)\n",
      " |-- Title: string (nullable = true)\n",
      " |-- ViewCount: long (nullable = true)\n",
      "\n"
     ]
    }
   ],
   "source": [
    "df = spark.read.orc('data/dataframe.orc')\n",
    "df.printSchema()"
   ]
  },
  {
   "cell_type": "code",
   "execution_count": 3,
   "id": "strange-performance",
   "metadata": {},
   "outputs": [
    {
     "name": "stdout",
     "output_type": "stream",
     "text": [
      "+--------------------+--------------------+-----+--------------------+\n",
      "|               Title|                Body|Score|                Tags|\n",
      "+--------------------+--------------------+-----+--------------------+\n",
      "|Coding the regres...|<p>Say I have 5 b...|    0|<r><regression><l...|\n",
      "|                null|<p>I recommend yo...|    2|                null|\n",
      "|Why dummy variabl...|<p>I was speaking...|    3|  <categorical-data>|\n",
      "|Binomial random v...|<p>I've been read...|    4|<chi-squared><bin...|\n",
      "| Analyze proportions|<p>I have a datas...|   13|    <r><multinomial>|\n",
      "|                null|<p>The terminolog...|    6|                null|\n",
      "|                null|<p>Perhaps he is ...|    3|                null|\n",
      "|                null|<p>Like Michelle ...|    3|                null|\n",
      "|Simulating financ...|<p>I would like t...|    1|<r><distributions...|\n",
      "|Multiple regressi...|<p>I am performin...|    6|<r><time-series><...|\n",
      "|Winning percentag...|<p>Suppose I want...|    4|<regression><gene...|\n",
      "|Chi-square test p...|<p>A colleague of...|    1|<distributions><c...|\n",
      "|                null|<p>What you descr...|   -1|                null|\n",
      "|Using a random va...|<p>The necessary ...|    0|<distributions><r...|\n",
      "|                null|<p>This is not a ...|    2|                null|\n",
      "|                null|<p>Let's focus on...|   11|                null|\n",
      "|Treating a variab...|<p>Suppose a vari...|    1|  <categorical-data>|\n",
      "|Is it ever good t...|<p>Suppose you ar...|    6|<statistical-sign...|\n",
      "|                null|<p><em>Just</em> ...|   17|                null|\n",
      "|                null|<p>As Aniko sugge...|    0|                null|\n",
      "+--------------------+--------------------+-----+--------------------+\n",
      "only showing top 20 rows\n",
      "\n"
     ]
    }
   ],
   "source": [
    "df.select('Title', 'Body', 'Score', 'Tags').show()"
   ]
  },
  {
   "cell_type": "code",
   "execution_count": 4,
   "id": "mounted-gasoline",
   "metadata": {},
   "outputs": [
    {
     "name": "stdout",
     "output_type": "stream",
     "text": [
      "+--------------------+\n",
      "|            category|\n",
      "+--------------------+\n",
      "|                   r|\n",
      "|                null|\n",
      "|    categorical-data|\n",
      "|         chi-squared|\n",
      "|                   r|\n",
      "|                null|\n",
      "|                null|\n",
      "|                null|\n",
      "|                   r|\n",
      "|                   r|\n",
      "|          regression|\n",
      "|       distributions|\n",
      "|                null|\n",
      "|       distributions|\n",
      "|                null|\n",
      "|                null|\n",
      "|    categorical-data|\n",
      "|statistical-signi...|\n",
      "|                null|\n",
      "|                null|\n",
      "+--------------------+\n",
      "only showing top 20 rows\n",
      "\n"
     ]
    }
   ],
   "source": [
    "df.withColumn('category', regexp_extract(col('Tags'), '^<(.+?)>', 1)).select('category').show()"
   ]
  },
  {
   "cell_type": "code",
   "execution_count": 5,
   "id": "alone-bikini",
   "metadata": {},
   "outputs": [],
   "source": [
    "data = df.withColumn('category', regexp_extract(col('Tags'), '^<(.+?)>', 1)).filter(col('category').isin('r', 'regression', 'machine-learning', 'probability', 'time-series'))"
   ]
  },
  {
   "cell_type": "code",
   "execution_count": 6,
   "id": "round-milton",
   "metadata": {},
   "outputs": [
    {
     "name": "stdout",
     "output_type": "stream",
     "text": [
      "+----------------+-----+\n",
      "|        category|count|\n",
      "+----------------+-----+\n",
      "|               r|24119|\n",
      "|      regression|18987|\n",
      "|machine-learning|13303|\n",
      "|     probability| 8446|\n",
      "|     time-series| 7891|\n",
      "+----------------+-----+\n",
      "\n"
     ]
    }
   ],
   "source": [
    "data.groupby('category').count().sort('count', ascending=False).limit(10).show()"
   ]
  },
  {
   "cell_type": "code",
   "execution_count": 7,
   "id": "accessory-brake",
   "metadata": {
    "tags": []
   },
   "outputs": [
    {
     "name": "stdout",
     "output_type": "stream",
     "text": [
      "+--------------------+--------------------+\n",
      "|                Body|               words|\n",
      "+--------------------+--------------------+\n",
      "|<p>Say I have 5 b...|[<p>say, i, have,...|\n",
      "|<p>I have a datas...|[<p>i, have, a, d...|\n",
      "|<p>I would like t...|[<p>i, would, lik...|\n",
      "|<p>I am performin...|[<p>i, am, perfor...|\n",
      "|<p>Suppose I want...|[<p>suppose, i, w...|\n",
      "|<p>I want to do m...|[<p>i, want, to, ...|\n",
      "|<p>Suppose you ha...|[<p>suppose, you,...|\n",
      "|<p>Suppose produc...|[<p>suppose, prod...|\n",
      "|<p>I am doing som...|[<p>i, am, doing,...|\n",
      "|<p>Complex survey...|[<p>complex, surv...|\n",
      "|<p>Most of situat...|[<p>most, of, sit...|\n",
      "|<p>I would like t...|[<p>i, would, lik...|\n",
      "|<p>I'm implementi...|[<p>i'm, implemen...|\n",
      "|<p>Given multiple...|[<p>given, multip...|\n",
      "|<p>Is it reasonab...|[<p>is, it, reaso...|\n",
      "|<p>I am working o...|[<p>i, am, workin...|\n",
      "|<p>I've made repl...|[<p>i've, made, r...|\n",
      "|<p>If p is the pr...|[<p>if, p, is, th...|\n",
      "|<p>I've got a non...|[<p>i've, got, a,...|\n",
      "|<p>In R, if I set...|[<p>in, r,, if, i...|\n",
      "+--------------------+--------------------+\n",
      "only showing top 20 rows\n",
      "\n"
     ]
    }
   ],
   "source": [
    "tokenizer = Tokenizer(inputCol=\"Body\", outputCol=\"words\")\n",
    "words = tokenizer.transform(data)\n",
    "words.select('Body', 'words').show()"
   ]
  },
  {
   "cell_type": "code",
   "execution_count": 8,
   "id": "burning-navigator",
   "metadata": {},
   "outputs": [],
   "source": [
    "cv = CountVectorizer(inputCol=\"words\", outputCol=\"features\", minDF=2.0, vocabSize=50000)\n",
    "\n",
    "model = cv.fit(words)\n",
    "result = model.transform(words)"
   ]
  },
  {
   "cell_type": "code",
   "execution_count": 9,
   "id": "healthy-poverty",
   "metadata": {
    "tags": []
   },
   "outputs": [
    {
     "name": "stdout",
     "output_type": "stream",
     "text": [
      "+--------------------+--------------------+--------------------+--------------------+----------------+\n",
      "|               Title|                Body|               words|            features|        category|\n",
      "+--------------------+--------------------+--------------------+--------------------+----------------+\n",
      "|Coding the regres...|<p>Say I have 5 b...|[<p>say, i, have,...|(50000,[0,1,2,3,4...|               r|\n",
      "| Analyze proportions|<p>I have a datas...|[<p>i, have, a, d...|(50000,[0,1,2,3,4...|               r|\n",
      "|Simulating financ...|<p>I would like t...|[<p>i, would, lik...|(50000,[0,1,2,3,4...|               r|\n",
      "|Multiple regressi...|<p>I am performin...|[<p>i, am, perfor...|(50000,[0,1,2,3,4...|               r|\n",
      "|Winning percentag...|<p>Suppose I want...|[<p>suppose, i, w...|(50000,[0,1,2,3,4...|      regression|\n",
      "|How to choose the...|<p>I want to do m...|[<p>i, want, to, ...|(50000,[0,1,2,4,5...|      regression|\n",
      "|   Interaction terms|<p>Suppose you ha...|[<p>suppose, you,...|(50000,[2,8,13,15...|      regression|\n",
      "|How do I detect s...|<p>Suppose produc...|[<p>suppose, prod...|(50000,[0,1,2,3,4...|     time-series|\n",
      "|How to limit impa...|<p>I am doing som...|[<p>i, am, doing,...|(50000,[1,2,3,5,6...|               r|\n",
      "|Matched Analysis ...|<p>Complex survey...|[<p>complex, surv...|(50000,[0,1,2,3,4...|               r|\n",
      "|How to simulate m...|<p>Most of situat...|[<p>most, of, sit...|(50000,[0,1,2,3,4...|               r|\n",
      "|Cost Benefit/Effe...|<p>I would like t...|[<p>i, would, lik...|(50000,[0,1,2,3,4...|               r|\n",
      "|Benchmark dataset...|<p>I'm implementi...|[<p>i'm, implemen...|(50000,[2,4,7,10,...|machine-learning|\n",
      "|Model stability i...|<p>Given multiple...|[<p>given, multip...|(50000,[1,3,4,6,7...|      regression|\n",
      "|Logical reasons f...|<p>Is it reasonab...|[<p>is, it, reaso...|(50000,[0,1,2,3,4...|      regression|\n",
      "|Creating tree spl...|<p>I am working o...|[<p>i, am, workin...|(50000,[0,1,2,3,4...|machine-learning|\n",
      "|Significance test...|<p>I've made repl...|[<p>i've, made, r...|(50000,[0,1,2,3,4...|     time-series|\n",
      "|Binomial trials r...|<p>If p is the pr...|[<p>if, p, is, th...|(50000,[0,1,2,3,4...|               r|\n",
      "|Fitting a non-lin...|<p>I've got a non...|[<p>i've, got, a,...|(50000,[0,1,2,3,4...|               r|\n",
      "|How to resample i...|<p>In R, if I set...|[<p>in, r,, if, i...|(50000,[0,1,2,4,5...|               r|\n",
      "+--------------------+--------------------+--------------------+--------------------+----------------+\n",
      "only showing top 20 rows\n",
      "\n"
     ]
    }
   ],
   "source": [
    "result.select('Title', 'Body', 'words', 'features', 'category').show()"
   ]
  },
  {
   "cell_type": "code",
   "execution_count": 10,
   "id": "dental-thing",
   "metadata": {
    "tags": []
   },
   "outputs": [
    {
     "name": "stdout",
     "output_type": "stream",
     "text": [
      "+--------------------+----------------+-----+\n",
      "|            features|        category|label|\n",
      "+--------------------+----------------+-----+\n",
      "|(50000,[0,1,2,3,4...|               r|  0.0|\n",
      "|(50000,[0,1,2,3,4...|               r|  0.0|\n",
      "|(50000,[0,1,2,3,4...|               r|  0.0|\n",
      "|(50000,[0,1,2,3,4...|               r|  0.0|\n",
      "|(50000,[0,1,2,3,4...|      regression|  1.0|\n",
      "|(50000,[0,1,2,4,5...|      regression|  1.0|\n",
      "|(50000,[2,8,13,15...|      regression|  1.0|\n",
      "|(50000,[0,1,2,3,4...|     time-series|  4.0|\n",
      "|(50000,[1,2,3,5,6...|               r|  0.0|\n",
      "|(50000,[0,1,2,3,4...|               r|  0.0|\n",
      "|(50000,[0,1,2,3,4...|               r|  0.0|\n",
      "|(50000,[0,1,2,3,4...|               r|  0.0|\n",
      "|(50000,[2,4,7,10,...|machine-learning|  2.0|\n",
      "|(50000,[1,3,4,6,7...|      regression|  1.0|\n",
      "|(50000,[0,1,2,3,4...|      regression|  1.0|\n",
      "|(50000,[0,1,2,3,4...|machine-learning|  2.0|\n",
      "|(50000,[0,1,2,3,4...|     time-series|  4.0|\n",
      "|(50000,[0,1,2,3,4...|               r|  0.0|\n",
      "|(50000,[0,1,2,3,4...|               r|  0.0|\n",
      "|(50000,[0,1,2,4,5...|               r|  0.0|\n",
      "+--------------------+----------------+-----+\n",
      "only showing top 20 rows\n",
      "\n"
     ]
    }
   ],
   "source": [
    "from pyspark.ml.feature import StringIndexer\n",
    "\n",
    "indexer = StringIndexer(inputCol=\"category\", outputCol=\"label\")\n",
    "indexed = indexer.fit(result).transform(result)\n",
    "indexed.select('features', 'category', 'label').show()"
   ]
  },
  {
   "cell_type": "code",
   "execution_count": 11,
   "id": "auburn-acquisition",
   "metadata": {},
   "outputs": [],
   "source": [
    "train, test = indexed.randomSplit([0.8, 0.2], seed=12345)\n",
    "train, validate = train.randomSplit([0.8, 0.2], seed=12345)"
   ]
  },
  {
   "cell_type": "code",
   "execution_count": 12,
   "id": "recreational-penguin",
   "metadata": {},
   "outputs": [
    {
     "data": {
      "text/plain": [
       "46683"
      ]
     },
     "execution_count": 12,
     "metadata": {},
     "output_type": "execute_result"
    }
   ],
   "source": [
    "train.count()"
   ]
  },
  {
   "cell_type": "code",
   "execution_count": 13,
   "id": "governing-history",
   "metadata": {},
   "outputs": [
    {
     "data": {
      "text/plain": [
       "11565"
      ]
     },
     "execution_count": 13,
     "metadata": {},
     "output_type": "execute_result"
    }
   ],
   "source": [
    "validate.count()"
   ]
  },
  {
   "cell_type": "code",
   "execution_count": 14,
   "id": "together-japan",
   "metadata": {},
   "outputs": [
    {
     "data": {
      "text/plain": [
       "14498"
      ]
     },
     "execution_count": 14,
     "metadata": {},
     "output_type": "execute_result"
    }
   ],
   "source": [
    "test.count()"
   ]
  },
  {
   "cell_type": "code",
   "execution_count": 15,
   "id": "olive-slovakia",
   "metadata": {},
   "outputs": [],
   "source": [
    "lr = LogisticRegression()"
   ]
  },
  {
   "cell_type": "code",
   "execution_count": 16,
   "id": "fifth-grounds",
   "metadata": {},
   "outputs": [],
   "source": [
    "# Fit the model\n",
    "lrModel = lr.fit(train)"
   ]
  },
  {
   "cell_type": "code",
   "execution_count": 18,
   "id": "vocational-synthesis",
   "metadata": {},
   "outputs": [],
   "source": [
    "predictions = lrModel.transform(test)"
   ]
  },
  {
   "cell_type": "code",
   "execution_count": 19,
   "id": "unlike-stuff",
   "metadata": {},
   "outputs": [
    {
     "name": "stdout",
     "output_type": "stream",
     "text": [
      "root\n",
      " |-- AcceptedAnswerId: long (nullable = true)\n",
      " |-- AnswerCount: long (nullable = true)\n",
      " |-- Body: string (nullable = true)\n",
      " |-- CommentCount: long (nullable = true)\n",
      " |-- ContentLicense: string (nullable = true)\n",
      " |-- CreationDate: timestamp (nullable = true)\n",
      " |-- FavoriteCount: long (nullable = true)\n",
      " |-- Id: long (nullable = true)\n",
      " |-- LastActivityDate: timestamp (nullable = true)\n",
      " |-- OwnerUserId: long (nullable = true)\n",
      " |-- PostTypeId: long (nullable = true)\n",
      " |-- Score: long (nullable = true)\n",
      " |-- Tags: string (nullable = true)\n",
      " |-- Title: string (nullable = true)\n",
      " |-- ViewCount: long (nullable = true)\n",
      " |-- category: string (nullable = true)\n",
      " |-- words: array (nullable = true)\n",
      " |    |-- element: string (containsNull = true)\n",
      " |-- features: vector (nullable = true)\n",
      " |-- label: double (nullable = false)\n",
      " |-- rawPrediction: vector (nullable = true)\n",
      " |-- probability: vector (nullable = true)\n",
      " |-- prediction: double (nullable = false)\n",
      "\n"
     ]
    }
   ],
   "source": [
    "predictions.printSchema()"
   ]
  },
  {
   "cell_type": "code",
   "execution_count": 21,
   "id": "gentle-might",
   "metadata": {},
   "outputs": [
    {
     "name": "stdout",
     "output_type": "stream",
     "text": [
      "+----------+--------------------+-----+\n",
      "|prediction|         probability|label|\n",
      "+----------+--------------------+-----+\n",
      "|       0.0|[0.99999999814299...|  1.0|\n",
      "|       0.0|[0.99999999990438...|  1.0|\n",
      "|       2.0|[8.12714517432618...|  3.0|\n",
      "|       1.0|[6.65844708753902...|  1.0|\n",
      "|       3.0|[4.65509876440643...|  3.0|\n",
      "|       1.0|[2.52655339123261...|  1.0|\n",
      "|       1.0|[1.47861563657327...|  1.0|\n",
      "|       0.0|[1.0,2.1332443640...|  0.0|\n",
      "|       0.0|[1.0,6.7448164940...|  1.0|\n",
      "|       1.0|[6.781924499707E-...|  1.0|\n",
      "|       1.0|[0.0,1.0,0.0,0.0,...|  1.0|\n",
      "|       0.0|[1.0,0.0,0.0,0.0,...|  0.0|\n",
      "|       4.0|[0.0,0.0,0.0,0.0,...|  3.0|\n",
      "|       0.0|[1.0,8.4689471332...|  4.0|\n",
      "|       0.0|[1.0,9.5386296882...|  1.0|\n",
      "|       1.0|[2.74766799830940...|  1.0|\n",
      "|       0.0|[1.0,9.2569942373...|  0.0|\n",
      "|       0.0|[1.0,0.0,0.0,0.0,...|  0.0|\n",
      "|       0.0|[1.0,4.9235111209...|  0.0|\n",
      "|       1.0|[4.26015254109860...|  1.0|\n",
      "+----------+--------------------+-----+\n",
      "only showing top 20 rows\n",
      "\n"
     ]
    }
   ],
   "source": [
    "predictions.select('prediction', 'probability', 'label').show()"
   ]
  },
  {
   "cell_type": "code",
   "execution_count": 25,
   "id": "coated-foster",
   "metadata": {},
   "outputs": [
    {
     "data": {
      "text/plain": [
       "0.6659539246792661"
      ]
     },
     "execution_count": 25,
     "metadata": {},
     "output_type": "execute_result"
    }
   ],
   "source": [
    "predictions.filter(col('prediction') == col('label')).count() / predictions.count()"
   ]
  },
  {
   "cell_type": "code",
   "execution_count": 27,
   "id": "disciplinary-prototype",
   "metadata": {},
   "outputs": [
    {
     "data": {
      "text/plain": [
       "DenseMatrix(5, 50000, [0.0108, 0.0193, 0.5031, 0.0048, 0.043, 1.1338, -0.3093, 0.2789, ..., -35.5791, -23.4632, -6.6764, 63.5506, 7.0663, -2.575, -11.0971, 63.9501], 1)"
      ]
     },
     "execution_count": 27,
     "metadata": {},
     "output_type": "execute_result"
    }
   ],
   "source": [
    "# 5 classes\n",
    "lrModel.coefficientMatrix()"
   ]
  },
  {
   "cell_type": "code",
   "execution_count": 22,
   "id": "liberal-finland",
   "metadata": {},
   "outputs": [
    {
     "name": "stdout",
     "output_type": "stream",
     "text": [
      "Accuracy: 1.0\n",
      "FPR: 0.0\n",
      "TPR: 1.0\n",
      "F-measure: 1.0\n",
      "Precision: 1.0\n",
      "Recall: 1.0\n"
     ]
    }
   ],
   "source": [
    "trainingSummary = lrModel.summary\n",
    "accuracy = trainingSummary.accuracy\n",
    "falsePositiveRate = trainingSummary.weightedFalsePositiveRate\n",
    "truePositiveRate = trainingSummary.weightedTruePositiveRate\n",
    "fMeasure = trainingSummary.weightedFMeasure()\n",
    "precision = trainingSummary.weightedPrecision\n",
    "recall = trainingSummary.weightedRecall\n",
    "print(\"Accuracy: %s\\nFPR: %s\\nTPR: %s\\nF-measure: %s\\nPrecision: %s\\nRecall: %s\"\n",
    "      % (accuracy, falsePositiveRate, truePositiveRate, fMeasure, precision, recall))"
   ]
  },
  {
   "cell_type": "code",
   "execution_count": 91,
   "id": "functioning-output",
   "metadata": {},
   "outputs": [
    {
     "name": "stdout",
     "output_type": "stream",
     "text": [
      "False positive rate by label:\n",
      "label 0: 0.0\n",
      "label 1: 0.0\n",
      "label 2: 0.0\n",
      "label 3: 0.0\n",
      "label 4: 0.0\n",
      "True positive rate by label:\n",
      "label 0: 1.0\n",
      "label 1: 1.0\n",
      "label 2: 1.0\n",
      "label 3: 1.0\n",
      "label 4: 1.0\n",
      "Precision by label:\n",
      "label 0: 1.0\n",
      "label 1: 1.0\n",
      "label 2: 1.0\n",
      "label 3: 1.0\n",
      "label 4: 1.0\n",
      "Recall by label:\n",
      "label 0: 1.0\n",
      "label 1: 1.0\n",
      "label 2: 1.0\n",
      "label 3: 1.0\n",
      "label 4: 1.0\n",
      "F-measure by label:\n",
      "label 0: 1.0\n",
      "label 1: 1.0\n",
      "label 2: 1.0\n",
      "label 3: 1.0\n",
      "label 4: 1.0\n"
     ]
    }
   ],
   "source": [
    "print(\"False positive rate by label:\")\n",
    "for i, rate in enumerate(trainingSummary.falsePositiveRateByLabel):\n",
    "    print(\"label %d: %s\" % (i, rate))\n",
    "\n",
    "print(\"True positive rate by label:\")\n",
    "for i, rate in enumerate(trainingSummary.truePositiveRateByLabel):\n",
    "    print(\"label %d: %s\" % (i, rate))\n",
    "\n",
    "print(\"Precision by label:\")\n",
    "for i, prec in enumerate(trainingSummary.precisionByLabel):\n",
    "    print(\"label %d: %s\" % (i, prec))\n",
    "\n",
    "print(\"Recall by label:\")\n",
    "for i, rec in enumerate(trainingSummary.recallByLabel):\n",
    "    print(\"label %d: %s\" % (i, rec))\n",
    "\n",
    "print(\"F-measure by label:\")\n",
    "for i, f in enumerate(trainingSummary.fMeasureByLabel()):\n",
    "    print(\"label %d: %s\" % (i, f))"
   ]
  },
  {
   "cell_type": "code",
   "execution_count": null,
   "id": "absent-bidder",
   "metadata": {},
   "outputs": [],
   "source": []
  }
 ],
 "metadata": {
  "kernelspec": {
   "display_name": "Python 3",
   "language": "python",
   "name": "python3"
  },
  "language_info": {
   "codemirror_mode": {
    "name": "ipython",
    "version": 3
   },
   "file_extension": ".py",
   "mimetype": "text/x-python",
   "name": "python",
   "nbconvert_exporter": "python",
   "pygments_lexer": "ipython3",
   "version": "3.8.8"
  }
 },
 "nbformat": 4,
 "nbformat_minor": 5
}
