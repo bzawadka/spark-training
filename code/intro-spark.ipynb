{
 "cells": [
  {
   "cell_type": "code",
   "execution_count": 1,
   "id": "dynamic-accessory",
   "metadata": {},
   "outputs": [],
   "source": [
    "import pyspark as ps"
   ]
  },
  {
   "cell_type": "code",
   "execution_count": 2,
   "id": "shared-failure",
   "metadata": {},
   "outputs": [],
   "source": [
    "sc = ps.SparkContext()"
   ]
  },
  {
   "cell_type": "code",
   "execution_count": 3,
   "id": "controversial-highlight",
   "metadata": {},
   "outputs": [
    {
     "data": {
      "text/plain": [
       "'local[*]'"
      ]
     },
     "execution_count": 3,
     "metadata": {},
     "output_type": "execute_result"
    }
   ],
   "source": [
    "sc.master"
   ]
  },
  {
   "cell_type": "code",
   "execution_count": 4,
   "id": "single-poker",
   "metadata": {},
   "outputs": [
    {
     "data": {
      "text/html": [
       "\n",
       "        <div>\n",
       "            <p><b>SparkContext</b></p>\n",
       "\n",
       "            <p><a href=\"http://d125d1c31d66:4041\">Spark UI</a></p>\n",
       "\n",
       "            <dl>\n",
       "              <dt>Version</dt>\n",
       "                <dd><code>v3.1.1</code></dd>\n",
       "              <dt>Master</dt>\n",
       "                <dd><code>local[*]</code></dd>\n",
       "              <dt>AppName</dt>\n",
       "                <dd><code>pyspark-shell</code></dd>\n",
       "            </dl>\n",
       "        </div>\n",
       "        "
      ],
      "text/plain": [
       "<SparkContext master=local[*] appName=pyspark-shell>"
      ]
     },
     "execution_count": 4,
     "metadata": {},
     "output_type": "execute_result"
    }
   ],
   "source": [
    "sc"
   ]
  },
  {
   "cell_type": "code",
   "execution_count": 5,
   "id": "color-rogers",
   "metadata": {},
   "outputs": [],
   "source": [
    "posts = sc.textFile('data/Posts.xml')"
   ]
  },
  {
   "cell_type": "code",
   "execution_count": 6,
   "id": "immune-review",
   "metadata": {},
   "outputs": [
    {
     "data": {
      "text/plain": [
       "['<?xml version=\"1.0\" encoding=\"utf-8\"?>',\n",
       " '<posts>',\n",
       " '  <row Id=\"1\" PostTypeId=\"1\" AcceptedAnswerId=\"15\" CreationDate=\"2010-07-19T19:12:12.510\" Score=\"48\" ViewCount=\"4280\" Body=\"&lt;p&gt;How should I elicit prior distributions from experts when fitting a Bayesian model?&lt;/p&gt;&#xA;\" OwnerUserId=\"8\" LastActivityDate=\"2020-11-05T09:44:51.710\" Title=\"Eliciting priors from experts\" Tags=\"&lt;bayesian&gt;&lt;prior&gt;&lt;elicitation&gt;\" AnswerCount=\"6\" CommentCount=\"1\" FavoriteCount=\"32\" ContentLicense=\"CC BY-SA 2.5\" />',\n",
       " '  <row Id=\"2\" PostTypeId=\"1\" AcceptedAnswerId=\"59\" CreationDate=\"2010-07-19T19:12:57.157\" Score=\"34\" ViewCount=\"32048\" Body=\"&lt;p&gt;In many different statistical methods there is an &quot;assumption of normality&quot;.  What is &quot;normality&quot; and how do I know if there is normality?&lt;/p&gt;&#xA;\" OwnerUserId=\"24\" LastEditorDisplayName=\"user88\" LastEditDate=\"2010-08-07T17:56:44.800\" LastActivityDate=\"2017-11-22T12:15:07.030\" Title=\"What is normality?\" Tags=\"&lt;distributions&gt;&lt;normality-assumption&gt;\" AnswerCount=\"7\" CommentCount=\"1\" FavoriteCount=\"11\" ContentLicense=\"CC BY-SA 2.5\" />',\n",
       " '  <row Id=\"3\" PostTypeId=\"1\" AcceptedAnswerId=\"5\" CreationDate=\"2010-07-19T19:13:28.577\" Score=\"71\" ViewCount=\"6373\" Body=\"&lt;p&gt;What are some valuable Statistical Analysis open source projects available right now?&lt;/p&gt;&#xA;&#xA;&lt;p&gt;Edit: as pointed out by Sharpie, valuable could mean helping you get things done faster or more cheaply.&lt;/p&gt;&#xA;\" OwnerUserId=\"18\" LastEditorUserId=\"183\" LastEditDate=\"2011-02-12T05:50:03.667\" LastActivityDate=\"2013-05-27T14:48:36.927\" Title=\"What are some valuable Statistical Analysis open source projects?\" Tags=\"&lt;software&gt;&lt;open-source&gt;\" AnswerCount=\"19\" CommentCount=\"3\" FavoriteCount=\"39\" CommunityOwnedDate=\"2010-07-19T19:13:28.577\" ContentLicense=\"CC BY-SA 2.5\" />']"
      ]
     },
     "execution_count": 6,
     "metadata": {},
     "output_type": "execute_result"
    }
   ],
   "source": [
    "posts.take(5)"
   ]
  },
  {
   "cell_type": "code",
   "execution_count": 7,
   "id": "optimum-particular",
   "metadata": {},
   "outputs": [],
   "source": [
    "import xml.etree.ElementTree as etree"
   ]
  },
  {
   "cell_type": "code",
   "execution_count": 8,
   "id": "engaging-edward",
   "metadata": {},
   "outputs": [],
   "source": [
    "element = etree.fromstring(posts.take(3)[2]) "
   ]
  },
  {
   "cell_type": "code",
   "execution_count": 9,
   "id": "dimensional-audience",
   "metadata": {},
   "outputs": [
    {
     "data": {
      "text/plain": [
       "<Element 'row' at 0x7f89b5bbd180>"
      ]
     },
     "execution_count": 9,
     "metadata": {},
     "output_type": "execute_result"
    }
   ],
   "source": [
    "element"
   ]
  },
  {
   "cell_type": "code",
   "execution_count": 10,
   "id": "stuffed-attribute",
   "metadata": {},
   "outputs": [
    {
     "data": {
      "text/plain": [
       "[('Id', '1'),\n",
       " ('PostTypeId', '1'),\n",
       " ('AcceptedAnswerId', '15'),\n",
       " ('CreationDate', '2010-07-19T19:12:12.510'),\n",
       " ('Score', '48'),\n",
       " ('ViewCount', '4280'),\n",
       " ('Body',\n",
       "  '<p>How should I elicit prior distributions from experts when fitting a Bayesian model?</p>\\n'),\n",
       " ('OwnerUserId', '8'),\n",
       " ('LastActivityDate', '2020-11-05T09:44:51.710'),\n",
       " ('Title', 'Eliciting priors from experts'),\n",
       " ('Tags', '<bayesian><prior><elicitation>'),\n",
       " ('AnswerCount', '6'),\n",
       " ('CommentCount', '1'),\n",
       " ('FavoriteCount', '32'),\n",
       " ('ContentLicense', 'CC BY-SA 2.5')]"
      ]
     },
     "execution_count": 10,
     "metadata": {},
     "output_type": "execute_result"
    }
   ],
   "source": [
    "element.items()"
   ]
  },
  {
   "cell_type": "code",
   "execution_count": 11,
   "id": "specialized-league",
   "metadata": {},
   "outputs": [],
   "source": [
    "# filter valid row XML\n",
    "# convert data into proper types\n",
    "# convert RDD into DataFrame"
   ]
  },
  {
   "cell_type": "code",
   "execution_count": 19,
   "id": "floating-myanmar",
   "metadata": {},
   "outputs": [],
   "source": [
    "def validate_post(xml):\n",
    "    try:\n",
    "        row = etree.fromstring(xml)\n",
    "        if row.get('Id'):\n",
    "            return True\n",
    "    except Exception as e:\n",
    "        print(e)\n",
    "        return False"
   ]
  },
  {
   "cell_type": "code",
   "execution_count": 20,
   "id": "further-spank",
   "metadata": {
    "tags": []
   },
   "outputs": [
    {
     "data": {
      "text/plain": [
       "PythonRDD[7] at RDD at PythonRDD.scala:53"
      ]
     },
     "execution_count": 20,
     "metadata": {},
     "output_type": "execute_result"
    }
   ],
   "source": [
    "posts.filter(validate_post)"
   ]
  },
  {
   "cell_type": "code",
   "execution_count": 21,
   "id": "third-violence",
   "metadata": {},
   "outputs": [
    {
     "name": "stdout",
     "output_type": "stream",
     "text": [
      "CPU times: user 7.94 ms, sys: 5.84 ms, total: 13.8 ms\n",
      "Wall time: 7.77 s\n"
     ]
    },
    {
     "data": {
      "text/plain": [
       "340838"
      ]
     },
     "execution_count": 21,
     "metadata": {},
     "output_type": "execute_result"
    }
   ],
   "source": [
    "%%time\n",
    "posts.filter(validate_post).count()"
   ]
  },
  {
   "cell_type": "code",
   "execution_count": 22,
   "id": "floppy-cache",
   "metadata": {},
   "outputs": [],
   "source": [
    "from datetime import datetime\n",
    "\n",
    "schema = {\n",
    "    'Id': int,\n",
    "    'PostTypeId': int,\n",
    "    'AcceptedAnswerId': int,\n",
    "    'CreationDate': datetime.fromisoformat,\n",
    "    'Score': int,\n",
    "    'ViewCount': int,\n",
    "    'Body': str,\n",
    "    'OwnerUserId': int,\n",
    "    'LastActivityDate': datetime.fromisoformat,\n",
    "    'Title': str,\n",
    "    'Tags': str,\n",
    "    'AnswerCount': int,\n",
    "    'CommentCount': int,\n",
    "    'FavoriteCount': int,\n",
    "    'ContentLicense': str\n",
    "}"
   ]
  },
  {
   "cell_type": "code",
   "execution_count": 25,
   "id": "interim-bench",
   "metadata": {},
   "outputs": [],
   "source": [
    "parsed = posts.filter(validate_post).map(lambda p: { k: schema[k](v) for (k, v) in etree.fromstring(p).items() if k in schema })"
   ]
  },
  {
   "cell_type": "code",
   "execution_count": 26,
   "id": "personal-center",
   "metadata": {},
   "outputs": [
    {
     "data": {
      "text/plain": [
       "['Eliciting priors from experts',\n",
       " 'What is normality?',\n",
       " 'What are some valuable Statistical Analysis open source projects?',\n",
       " 'Assessing the significance of differences in distributions',\n",
       " 'The Two Cultures: statistics vs. machine learning?',\n",
       " 'Locating freely available data samples',\n",
       " 'So how many staticians *does* it take to screw in a lightbulb?',\n",
       " 'Under what conditions should Likert scales be used as ordinal or interval data?',\n",
       " 'Multivariate Interpolation Approaches',\n",
       " 'How can I adapt ANOVA for binary data?',\n",
       " 'Forecasting demographic census',\n",
       " 'Bayesian and frequentist reasoning in plain English']"
      ]
     },
     "execution_count": 26,
     "metadata": {},
     "output_type": "execute_result"
    }
   ],
   "source": [
    "parsed.filter(lambda p: 'Title' in p).map(lambda p: p['Title']).take(12)"
   ]
  },
  {
   "cell_type": "code",
   "execution_count": 27,
   "id": "crucial-railway",
   "metadata": {},
   "outputs": [
    {
     "name": "stdout",
     "output_type": "stream",
     "text": [
      "(19) PythonRDD[11] at RDD at PythonRDD.scala:53 []\n",
      " |   data/Posts.xml MapPartitionsRDD[1] at textFile at NativeMethodAccessorImpl.java:0 []\n",
      " |   data/Posts.xml HadoopRDD[0] at textFile at NativeMethodAccessorImpl.java:0 []\n"
     ]
    }
   ],
   "source": [
    "print(parsed.toDebugString().decode('ascii'))"
   ]
  },
  {
   "cell_type": "code",
   "execution_count": 28,
   "id": "severe-composer",
   "metadata": {},
   "outputs": [
    {
     "data": {
      "text/plain": [
       "[{'Id': 1,\n",
       "  'PostTypeId': 1,\n",
       "  'AcceptedAnswerId': 15,\n",
       "  'CreationDate': datetime.datetime(2010, 7, 19, 19, 12, 12, 510000),\n",
       "  'Score': 48,\n",
       "  'ViewCount': 4280,\n",
       "  'Body': '<p>How should I elicit prior distributions from experts when fitting a Bayesian model?</p>\\n',\n",
       "  'OwnerUserId': 8,\n",
       "  'LastActivityDate': datetime.datetime(2020, 11, 5, 9, 44, 51, 710000),\n",
       "  'Title': 'Eliciting priors from experts',\n",
       "  'Tags': '<bayesian><prior><elicitation>',\n",
       "  'AnswerCount': 6,\n",
       "  'CommentCount': 1,\n",
       "  'FavoriteCount': 32,\n",
       "  'ContentLicense': 'CC BY-SA 2.5'}]"
      ]
     },
     "execution_count": 28,
     "metadata": {},
     "output_type": "execute_result"
    }
   ],
   "source": [
    "parsed.take(1)"
   ]
  },
  {
   "cell_type": "code",
   "execution_count": 29,
   "id": "center-panel",
   "metadata": {},
   "outputs": [
    {
     "data": {
      "text/plain": [
       "340838"
      ]
     },
     "execution_count": 29,
     "metadata": {},
     "output_type": "execute_result"
    }
   ],
   "source": [
    "parsed.count()"
   ]
  },
  {
   "cell_type": "code",
   "execution_count": 30,
   "id": "disturbed-selling",
   "metadata": {},
   "outputs": [
    {
     "name": "stdout",
     "output_type": "stream",
     "text": [
      "CPU times: user 9.66 ms, sys: 7.02 ms, total: 16.7 ms\n",
      "Wall time: 13.5 s\n"
     ]
    },
    {
     "data": {
      "text/plain": [
       "340838"
      ]
     },
     "execution_count": 30,
     "metadata": {},
     "output_type": "execute_result"
    }
   ],
   "source": [
    "%%time\n",
    "parsed.count()"
   ]
  },
  {
   "cell_type": "code",
   "execution_count": 31,
   "id": "complex-secretary",
   "metadata": {},
   "outputs": [
    {
     "data": {
      "text/plain": [
       "PythonRDD[11] at RDD at PythonRDD.scala:53"
      ]
     },
     "execution_count": 31,
     "metadata": {},
     "output_type": "execute_result"
    }
   ],
   "source": [
    "parsed.cache()"
   ]
  },
  {
   "cell_type": "code",
   "execution_count": 32,
   "id": "dietary-paste",
   "metadata": {},
   "outputs": [
    {
     "name": "stdout",
     "output_type": "stream",
     "text": [
      "(19) PythonRDD[11] at RDD at PythonRDD.scala:53 [Memory Serialized 1x Replicated]\n",
      " |   data/Posts.xml MapPartitionsRDD[1] at textFile at NativeMethodAccessorImpl.java:0 [Memory Serialized 1x Replicated]\n",
      " |   data/Posts.xml HadoopRDD[0] at textFile at NativeMethodAccessorImpl.java:0 [Memory Serialized 1x Replicated]\n"
     ]
    }
   ],
   "source": [
    "print(parsed.toDebugString().decode('ascii'))"
   ]
  },
  {
   "cell_type": "code",
   "execution_count": 33,
   "id": "binary-tension",
   "metadata": {},
   "outputs": [
    {
     "name": "stdout",
     "output_type": "stream",
     "text": [
      "CPU times: user 9.01 ms, sys: 2.48 ms, total: 11.5 ms\n",
      "Wall time: 18.3 s\n"
     ]
    },
    {
     "data": {
      "text/plain": [
       "340838"
      ]
     },
     "execution_count": 33,
     "metadata": {},
     "output_type": "execute_result"
    }
   ],
   "source": [
    "%%time\n",
    "parsed.count()"
   ]
  },
  {
   "cell_type": "code",
   "execution_count": 34,
   "id": "welcome-joyce",
   "metadata": {},
   "outputs": [
    {
     "name": "stdout",
     "output_type": "stream",
     "text": [
      "(19) PythonRDD[11] at RDD at PythonRDD.scala:53 [Memory Serialized 1x Replicated]\n",
      " |        CachedPartitions: 19; MemorySize: 263.5 MiB; DiskSize: 0.0 B\n",
      " |   data/Posts.xml MapPartitionsRDD[1] at textFile at NativeMethodAccessorImpl.java:0 [Memory Serialized 1x Replicated]\n",
      " |   data/Posts.xml HadoopRDD[0] at textFile at NativeMethodAccessorImpl.java:0 [Memory Serialized 1x Replicated]\n"
     ]
    }
   ],
   "source": [
    "print(parsed.toDebugString().decode('ascii'))"
   ]
  },
  {
   "cell_type": "code",
   "execution_count": 35,
   "id": "backed-contact",
   "metadata": {},
   "outputs": [
    {
     "name": "stdout",
     "output_type": "stream",
     "text": [
      "CPU times: user 8.36 ms, sys: 3.39 ms, total: 11.7 ms\n",
      "Wall time: 1.3 s\n"
     ]
    },
    {
     "data": {
      "text/plain": [
       "340838"
      ]
     },
     "execution_count": 35,
     "metadata": {},
     "output_type": "execute_result"
    }
   ],
   "source": [
    "%%time\n",
    "parsed.count()"
   ]
  },
  {
   "cell_type": "code",
   "execution_count": 36,
   "id": "assisted-shame",
   "metadata": {},
   "outputs": [],
   "source": [
    "from pyspark.sql import SparkSession\n",
    "\n",
    "spark = SparkSession.builder.getOrCreate()"
   ]
  },
  {
   "cell_type": "code",
   "execution_count": 37,
   "id": "minor-blond",
   "metadata": {},
   "outputs": [
    {
     "data": {
      "text/html": [
       "\n",
       "            <div>\n",
       "                <p><b>SparkSession - in-memory</b></p>\n",
       "                \n",
       "        <div>\n",
       "            <p><b>SparkContext</b></p>\n",
       "\n",
       "            <p><a href=\"http://d125d1c31d66:4041\">Spark UI</a></p>\n",
       "\n",
       "            <dl>\n",
       "              <dt>Version</dt>\n",
       "                <dd><code>v3.1.1</code></dd>\n",
       "              <dt>Master</dt>\n",
       "                <dd><code>local[*]</code></dd>\n",
       "              <dt>AppName</dt>\n",
       "                <dd><code>pyspark-shell</code></dd>\n",
       "            </dl>\n",
       "        </div>\n",
       "        \n",
       "            </div>\n",
       "        "
      ],
      "text/plain": [
       "<pyspark.sql.session.SparkSession at 0x7f89b5bb5f40>"
      ]
     },
     "execution_count": 37,
     "metadata": {},
     "output_type": "execute_result"
    }
   ],
   "source": [
    "spark"
   ]
  },
  {
   "cell_type": "code",
   "execution_count": 38,
   "id": "indie-scene",
   "metadata": {},
   "outputs": [],
   "source": [
    "# Can create a data frame from a RDD, Hive table, or Spark data source\n",
    "df = spark.createDataFrame(parsed)"
   ]
  },
  {
   "cell_type": "code",
   "execution_count": 40,
   "id": "planned-suspect",
   "metadata": {},
   "outputs": [],
   "source": [
    "df.write.orc('data/dataframe.orc')"
   ]
  },
  {
   "cell_type": "code",
   "execution_count": 39,
   "id": "domestic-maximum",
   "metadata": {},
   "outputs": [
    {
     "name": "stdout",
     "output_type": "stream",
     "text": [
      "+--------------------+--------------------+-----+----------------+\n",
      "|               Title|                Body|Score|AcceptedAnswerId|\n",
      "+--------------------+--------------------+-----+----------------+\n",
      "|Eliciting priors ...|<p>How should I e...|   48|              15|\n",
      "|  What is normality?|<p>In many differ...|   34|              59|\n",
      "|What are some val...|<p>What are some ...|   71|               5|\n",
      "|Assessing the sig...|<p>I have two gro...|   23|             135|\n",
      "|                null|<p>The R-project<...|   90|            null|\n",
      "|The Two Cultures:...|<p>Last year, I r...|  458|            null|\n",
      "|Locating freely a...|<p>I've been work...|  102|              18|\n",
      "|So how many stati...|<p>Sorry, but the...|    0|            null|\n",
      "|                null|<p><a href=\"http:...|   14|            null|\n",
      "|Under what condit...|<p>Many studies i...|   57|            1887|\n",
      "|Multivariate Inte...|<p>Is there a goo...|    4|            1201|\n",
      "|                null|<p>See my respons...|   24|            null|\n",
      "|                null|<p>Machine Learni...|   26|            null|\n",
      "|                null|<p>I second that ...|    6|            null|\n",
      "|                null|<p>John Cook give...|   21|            null|\n",
      "|                null|<p>Two projects s...|   17|            null|\n",
      "|How can I adapt A...|<p>I have four co...|   12|              29|\n",
      "|                null|<p>Also see the U...|   42|            null|\n",
      "|                null|<p><a href=\"http:...|   16|            null|\n",
      "|                null|<p>The assumption...|    3|            null|\n",
      "+--------------------+--------------------+-----+----------------+\n",
      "only showing top 20 rows\n",
      "\n"
     ]
    }
   ],
   "source": [
    "df.select('Title', 'Body', 'Score', 'AcceptedAnswerId').show()"
   ]
  },
  {
   "cell_type": "code",
   "execution_count": null,
   "id": "sunset-hayes",
   "metadata": {},
   "outputs": [],
   "source": [
    "df."
   ]
  },
  {
   "cell_type": "code",
   "execution_count": 47,
   "id": "colored-pontiac",
   "metadata": {},
   "outputs": [
    {
     "name": "stdout",
     "output_type": "stream",
     "text": [
      "root\n",
      " |-- AcceptedAnswerId: long (nullable = true)\n",
      " |-- AnswerCount: long (nullable = true)\n",
      " |-- Body: string (nullable = true)\n",
      " |-- CommentCount: long (nullable = true)\n",
      " |-- ContentLicense: string (nullable = true)\n",
      " |-- CreationDate: timestamp (nullable = true)\n",
      " |-- FavoriteCount: long (nullable = true)\n",
      " |-- Id: long (nullable = true)\n",
      " |-- LastActivityDate: timestamp (nullable = true)\n",
      " |-- OwnerUserId: long (nullable = true)\n",
      " |-- PostTypeId: long (nullable = true)\n",
      " |-- Score: long (nullable = true)\n",
      " |-- Tags: string (nullable = true)\n",
      " |-- Title: string (nullable = true)\n",
      " |-- ViewCount: long (nullable = true)\n",
      "\n"
     ]
    }
   ],
   "source": [
    "df.printSchema()"
   ]
  },
  {
   "cell_type": "code",
   "execution_count": 45,
   "id": "charming-gross",
   "metadata": {},
   "outputs": [
    {
     "data": {
      "text/plain": [
       "[Row(AcceptedAnswerId=15, AnswerCount=6, Body='<p>How should I elicit prior distributions from experts when fitting a Bayesian model?</p>\\n', CommentCount=1, ContentLicense='CC BY-SA 2.5', CreationDate=datetime.datetime(2010, 7, 19, 19, 12, 12, 510000), FavoriteCount=32, Id=1, LastActivityDate=datetime.datetime(2020, 11, 5, 9, 44, 51, 710000), OwnerUserId=8, PostTypeId=1, Score=48, Tags='<bayesian><prior><elicitation>', Title='Eliciting priors from experts', ViewCount=4280),\n",
       " Row(AcceptedAnswerId=59, AnswerCount=7, Body='<p>In many different statistical methods there is an \"assumption of normality\".  What is \"normality\" and how do I know if there is normality?</p>\\n', CommentCount=1, ContentLicense='CC BY-SA 2.5', CreationDate=datetime.datetime(2010, 7, 19, 19, 12, 57, 157000), FavoriteCount=11, Id=2, LastActivityDate=datetime.datetime(2017, 11, 22, 12, 15, 7, 30000), OwnerUserId=24, PostTypeId=1, Score=34, Tags='<distributions><normality-assumption>', Title='What is normality?', ViewCount=32048),\n",
       " Row(AcceptedAnswerId=5, AnswerCount=19, Body='<p>What are some valuable Statistical Analysis open source projects available right now?</p>\\n\\n<p>Edit: as pointed out by Sharpie, valuable could mean helping you get things done faster or more cheaply.</p>\\n', CommentCount=3, ContentLicense='CC BY-SA 2.5', CreationDate=datetime.datetime(2010, 7, 19, 19, 13, 28, 577000), FavoriteCount=39, Id=3, LastActivityDate=datetime.datetime(2013, 5, 27, 14, 48, 36, 927000), OwnerUserId=18, PostTypeId=1, Score=71, Tags='<software><open-source>', Title='What are some valuable Statistical Analysis open source projects?', ViewCount=6373)]"
      ]
     },
     "execution_count": 45,
     "metadata": {},
     "output_type": "execute_result"
    }
   ],
   "source": [
    "df.head(3)"
   ]
  },
  {
   "cell_type": "code",
   "execution_count": 46,
   "id": "portuguese-translation",
   "metadata": {},
   "outputs": [
    {
     "data": {
      "text/plain": [
       "[Row(AcceptedAnswerId=None, AnswerCount=0, Body=\"<p>I'm looking for an example of a Python implementation of the Terry-Hoeffding Normal Scores test. I have found other similar tests, but not this one.</p>\\n\", CommentCount=0, ContentLicense='CC BY-SA 4.0', CreationDate=datetime.datetime(2020, 12, 6, 4, 0, 57, 727000), FavoriteCount=None, Id=499531, LastActivityDate=datetime.datetime(2020, 12, 6, 4, 0, 57, 727000), OwnerUserId=304629, PostTypeId=1, Score=0, Tags='<python>', Title='Python Terry-Hoeffding Test', ViewCount=3),\n",
       " Row(AcceptedAnswerId=None, AnswerCount=0, Body='<p>I am attending a course on &quot;Introduction to Machine Learning&quot; where a large portion of this course to my surprise has <strong>probabilistic</strong> approach to machine learning. Like Probabilistic Approach to Linear and logistic regression and thereby trying to find the optimal weights using MLE, MAP or Bayesian. But I am not able to understand what is its importance? We can do all this using non-probabilistic approach as well. My instructor only told me that &quot;With probabilistic view, we got more info about the data&quot;, which I understand, that for each point rather than claiming something true or false directly we are taking into count the probability, which gives us a continuous value and describe <strong>to what extent that value is really useful</strong>. But apart from this, what are the advantages of probabilistic machine learning, and what can serve as a motivation for such viewpoints?</p>\\n', CommentCount=0, ContentLicense='CC BY-SA 4.0', CreationDate=datetime.datetime(2020, 12, 6, 4, 47, 35, 933000), FavoriteCount=None, Id=499532, LastActivityDate=datetime.datetime(2020, 12, 6, 4, 47, 35, 933000), OwnerUserId=239789, PostTypeId=1, Score=0, Tags='<regression><machine-learning><probability>', Title='What is the importance of probabilistic Machine Learning?', ViewCount=3),\n",
       " Row(AcceptedAnswerId=None, AnswerCount=0, Body='<p>Suppose X1 and X2 are independent. Both have Bernoulli distribution, equal to one with probability 0.5. What is the probability distribution of the product X1X2? What is the covariance between X1 and X1X2?</p>\\n<p>I am a beginner at statistics and quite confused by these conceptions. Would you please offer some guidance? Thank you!</p>\\n', CommentCount=0, ContentLicense='CC BY-SA 4.0', CreationDate=datetime.datetime(2020, 12, 6, 4, 50, 35, 657000), FavoriteCount=None, Id=499533, LastActivityDate=datetime.datetime(2020, 12, 6, 4, 50, 35, 657000), OwnerUserId=304630, PostTypeId=1, Score=0, Tags='<regression><probability><mathematical-statistics>', Title='Probability for Bernoulli distribution', ViewCount=5)]"
      ]
     },
     "execution_count": 46,
     "metadata": {},
     "output_type": "execute_result"
    }
   ],
   "source": [
    "df.tail(3)"
   ]
  },
  {
   "cell_type": "code",
   "execution_count": 49,
   "id": "powerful-duration",
   "metadata": {},
   "outputs": [],
   "source": [
    "pd_df = df.sample(fraction=0.01).toPandas()"
   ]
  },
  {
   "cell_type": "code",
   "execution_count": 51,
   "id": "grateful-supply",
   "metadata": {},
   "outputs": [
    {
     "data": {
      "text/plain": [
       "<AxesSubplot:ylabel='Density'>"
      ]
     },
     "execution_count": 51,
     "metadata": {},
     "output_type": "execute_result"
    },
    {
     "data": {
      "image/png": "[encoded data removed]",
      "text/plain": [
       "<Figure size 432x288 with 1 Axes>"
      ]
     },
     "metadata": {
      "needs_background": "light"
     },
     "output_type": "display_data"
    }
   ],
   "source": [
    "pd_df.Score.plot.kde()"
   ]
  },
  {
   "cell_type": "markdown",
   "id": "stone-conservative",
   "metadata": {},
   "source": [
    "## EDA\n",
    "\n",
    "1. How many records in total are there?\n",
    "2. How many uniques values does each column contain?\n",
    "3. How many missing (or null) values are there?\n",
    "4. For numeric columns, what are its summary statistics\n",
    "5. What are values appear most often in each column?\n",
    "6. How are the values of each column distributed?"
   ]
  },
  {
   "cell_type": "code",
   "execution_count": 52,
   "id": "reflected-means",
   "metadata": {},
   "outputs": [
    {
     "data": {
      "text/plain": [
       "340838"
      ]
     },
     "execution_count": 52,
     "metadata": {},
     "output_type": "execute_result"
    }
   ],
   "source": [
    "# https://spark.apache.org/docs/latest/api/python/pyspark.sql.html#pyspark.sql.DataFrame\n",
    "df.count()"
   ]
  },
  {
   "cell_type": "code",
   "execution_count": 53,
   "id": "italic-fighter",
   "metadata": {},
   "outputs": [],
   "source": [
    "df.createOrReplaceTempView(\"posts\")"
   ]
  },
  {
   "cell_type": "code",
   "execution_count": 54,
   "id": "indirect-incentive",
   "metadata": {},
   "outputs": [
    {
     "name": "stdout",
     "output_type": "stream",
     "text": [
      "+--------------+\n",
      "|ContentLicense|\n",
      "+--------------+\n",
      "|  CC BY-SA 2.5|\n",
      "|  CC BY-SA 3.0|\n",
      "|  CC BY-SA 4.0|\n",
      "+--------------+\n",
      "\n"
     ]
    }
   ],
   "source": [
    "# https://spark.apache.org/docs/latest/sql-ref-functions.html\n",
    "spark.sql(\"SELECT DISTINCT ContentLicense FROM posts\").show()"
   ]
  },
  {
   "cell_type": "code",
   "execution_count": 55,
   "id": "neither-flour",
   "metadata": {},
   "outputs": [
    {
     "name": "stdout",
     "output_type": "stream",
     "text": [
      "+-------------------------+\n",
      "|count_if((Title IS NULL))|\n",
      "+-------------------------+\n",
      "|                   169602|\n",
      "+-------------------------+\n",
      "\n"
     ]
    }
   ],
   "source": [
    "spark.sql(\"SELECT count_if(Title IS NULL) FROM posts\").show()"
   ]
  },
  {
   "cell_type": "code",
   "execution_count": 56,
   "id": "subjective-minute",
   "metadata": {},
   "outputs": [
    {
     "name": "stdout",
     "output_type": "stream",
     "text": [
      "+--------------------+--------------------+\n",
      "|               Title|                Body|\n",
      "+--------------------+--------------------+\n",
      "|Eliciting priors ...|<p>How should I e...|\n",
      "|  What is normality?|<p>In many differ...|\n",
      "|What are some val...|<p>What are some ...|\n",
      "|Assessing the sig...|<p>I have two gro...|\n",
      "|                null|<p>The R-project<...|\n",
      "|The Two Cultures:...|<p>Last year, I r...|\n",
      "+--------------------+--------------------+\n",
      "only showing top 6 rows\n",
      "\n"
     ]
    }
   ],
   "source": [
    "df.select('Title', 'Body').show(6)"
   ]
  },
  {
   "cell_type": "code",
   "execution_count": 57,
   "id": "athletic-survivor",
   "metadata": {},
   "outputs": [
    {
     "name": "stdout",
     "output_type": "stream",
     "text": [
      "+--------------------+--------------------+\n",
      "|               Title|                Body|\n",
      "+--------------------+--------------------+\n",
      "|Eliciting priors ...|<p>How should I e...|\n",
      "|  What is normality?|<p>In many differ...|\n",
      "|What are some val...|<p>What are some ...|\n",
      "|Assessing the sig...|<p>I have two gro...|\n",
      "|                null|<p>The R-project<...|\n",
      "+--------------------+--------------------+\n",
      "only showing top 5 rows\n",
      "\n"
     ]
    }
   ],
   "source": [
    "df.na.drop(how='all').select('Title', 'Body').show(5)"
   ]
  },
  {
   "cell_type": "code",
   "execution_count": 58,
   "id": "numeric-eating",
   "metadata": {},
   "outputs": [
    {
     "name": "stdout",
     "output_type": "stream",
     "text": [
      "+--------------------+--------------------+\n",
      "|               Title|                Body|\n",
      "+--------------------+--------------------+\n",
      "|Eliciting priors ...|<p>How should I e...|\n",
      "|  What is normality?|<p>In many differ...|\n",
      "|What are some val...|<p>What are some ...|\n",
      "|Assessing the sig...|<p>I have two gro...|\n",
      "|The Two Cultures:...|<p>Last year, I r...|\n",
      "+--------------------+--------------------+\n",
      "only showing top 5 rows\n",
      "\n"
     ]
    }
   ],
   "source": [
    "df.na.drop(subset=['Title']).select('Title', 'Body').show(5)"
   ]
  },
  {
   "cell_type": "code",
   "execution_count": 59,
   "id": "velvet-election",
   "metadata": {},
   "outputs": [
    {
     "name": "stdout",
     "output_type": "stream",
     "text": [
      "+--------------------+--------------------+\n",
      "|               Title|                Body|\n",
      "+--------------------+--------------------+\n",
      "|Eliciting priors ...|<p>How should I e...|\n",
      "|  What is normality?|<p>In many differ...|\n",
      "|What are some val...|<p>What are some ...|\n",
      "|Assessing the sig...|<p>I have two gro...|\n",
      "|       # Needs Title|<p>The R-project<...|\n",
      "|The Two Cultures:...|<p>Last year, I r...|\n",
      "|Locating freely a...|<p>I've been work...|\n",
      "|So how many stati...|<p>Sorry, but the...|\n",
      "|       # Needs Title|<p><a href=\"http:...|\n",
      "|Under what condit...|<p>Many studies i...|\n",
      "|Multivariate Inte...|<p>Is there a goo...|\n",
      "|       # Needs Title|<p>See my respons...|\n",
      "|       # Needs Title|<p>Machine Learni...|\n",
      "|       # Needs Title|<p>I second that ...|\n",
      "|       # Needs Title|<p>John Cook give...|\n",
      "|       # Needs Title|<p>Two projects s...|\n",
      "|How can I adapt A...|<p>I have four co...|\n",
      "|       # Needs Title|<p>Also see the U...|\n",
      "|       # Needs Title|<p><a href=\"http:...|\n",
      "|       # Needs Title|<p>The assumption...|\n",
      "+--------------------+--------------------+\n",
      "only showing top 20 rows\n",
      "\n"
     ]
    }
   ],
   "source": [
    "df.na.fill({'Title': '# Needs Title', 'Body': ''}).select('Title', 'Body').show()"
   ]
  },
  {
   "cell_type": "code",
   "execution_count": 62,
   "id": "scenic-california",
   "metadata": {},
   "outputs": [
    {
     "name": "stdout",
     "output_type": "stream",
     "text": [
      "+----------------+-----------+--------------------+------------+--------------+--------------------+-------------+------+--------------------+-----------+----------+-----+--------------------+--------------------+---------+\n",
      "|AcceptedAnswerId|AnswerCount|                Body|CommentCount|ContentLicense|        CreationDate|FavoriteCount|    Id|    LastActivityDate|OwnerUserId|PostTypeId|Score|                Tags|               Title|ViewCount|\n",
      "+----------------+-----------+--------------------+------------+--------------+--------------------+-------------+------+--------------------+-----------+----------+-----+--------------------+--------------------+---------+\n",
      "|            null|       null|<p><em>Imagine a ...|          44|  CC BY-SA 4.0|2015-03-06 00:30:...|         null|140579|2020-11-05 22:46:...|      28666|         2| 1541|                null|                null|     null|\n",
      "|          140579|         28|<p>In today's pat...|          16|  CC BY-SA 4.0|2010-09-15 20:05:...|         1552|  2691|2020-11-05 22:46:...|        851|         1| 1118|<pca><intuition><...|Making sense of p...|   685788|\n",
      "|            null|       null|<p>The short vers...|          30|  CC BY-SA 4.0|2013-01-15 16:41:...|         null| 47782|2020-04-12 18:53:...|       8373|         2|  687|                null|                null|     null|\n",
      "|            1097|         11|<p>Is there a sta...|           2|  CC BY-SA 3.0|2010-07-20 00:15:...|          651|   181|2019-05-27 20:11:...|        159|         1|  639|<model-selection>...|How to choose the...|   731321|\n",
      "|            2647|         11|<p>The <a href=\"h...|           4|  CC BY-SA 2.5|2010-09-14 03:24:...|          465|  2641|2020-07-28 09:27:...|        386|         1|  551|<probability><lik...|What is the diffe...|   361060|\n",
      "|            null|       null|<p>I realize this...|          18|  CC BY-SA 4.0|2010-08-02 02:20:...|         null|  1097|2018-07-22 18:44:...|        438|         2|  548|                null|                null|     null|\n",
      "|            null|       null|<p>Let the data m...|          26|  CC BY-SA 4.0|2015-01-20 23:47:...|         null|134283|2018-08-20 19:03:...|      28666|         2|  520|                null|                null|     null|\n",
      "|            null|       null|<p>A standard lin...|           5|  CC BY-SA 3.0|2012-06-22 05:11:...|         null| 30909|2016-07-15 22:28:...|       7290|         2|  486|                null|                null|     null|\n",
      "|           19051|         11|<p>I found this c...|          10|  CC BY-SA 3.0|2011-11-28 11:05:...|          393| 19048|2019-11-03 18:11:...|       7259|         1|  485|<machine-learning...|What is the diffe...|   539616|\n",
      "|           47782|         14|<p>Disclaimer: I'...|           4|  CC BY-SA 4.0|2013-01-15 15:31:...|          505| 47771|2020-08-10 02:16:...|       3305|         1|  482|<distributions><b...|What is the intui...|   192146|\n",
      "+----------------+-----------+--------------------+------------+--------------+--------------------+-------------+------+--------------------+-----------+----------+-----+--------------------+--------------------+---------+\n",
      "\n"
     ]
    }
   ],
   "source": [
    "df.sort(df.Score.desc()).limit(10).show()"
   ]
  },
  {
   "cell_type": "code",
   "execution_count": 63,
   "id": "endless-mason",
   "metadata": {},
   "outputs": [
    {
     "data": {
      "text/plain": [
       "\u001b[0;31mSignature:\u001b[0m \u001b[0mdf\u001b[0m\u001b[0;34m.\u001b[0m\u001b[0msummary\u001b[0m\u001b[0;34m(\u001b[0m\u001b[0;34m*\u001b[0m\u001b[0mstatistics\u001b[0m\u001b[0;34m)\u001b[0m\u001b[0;34m\u001b[0m\u001b[0;34m\u001b[0m\u001b[0m\n",
       "\u001b[0;31mDocstring:\u001b[0m\n",
       "Computes specified statistics for numeric and string columns. Available statistics are:\n",
       "- count\n",
       "- mean\n",
       "- stddev\n",
       "- min\n",
       "- max\n",
       "- arbitrary approximate percentiles specified as a percentage (e.g., 75%)\n",
       "\n",
       "If no statistics are given, this function computes count, mean, stddev, min,\n",
       "approximate quartiles (percentiles at 25%, 50%, and 75%), and max.\n",
       "\n",
       ".. versionadded:: 2.3.0\n",
       "\n",
       "Notes\n",
       "-----\n",
       "This function is meant for exploratory data analysis, as we make no\n",
       "guarantee about the backward compatibility of the schema of the resulting\n",
       ":class:`DataFrame`.\n",
       "\n",
       "Examples\n",
       "--------\n",
       ">>> df.summary().show()\n",
       "+-------+------------------+-----+\n",
       "|summary|               age| name|\n",
       "+-------+------------------+-----+\n",
       "|  count|                 2|    2|\n",
       "|   mean|               3.5| null|\n",
       "| stddev|2.1213203435596424| null|\n",
       "|    min|                 2|Alice|\n",
       "|    25%|                 2| null|\n",
       "|    50%|                 2| null|\n",
       "|    75%|                 5| null|\n",
       "|    max|                 5|  Bob|\n",
       "+-------+------------------+-----+\n",
       "\n",
       ">>> df.summary(\"count\", \"min\", \"25%\", \"75%\", \"max\").show()\n",
       "+-------+---+-----+\n",
       "|summary|age| name|\n",
       "+-------+---+-----+\n",
       "|  count|  2|    2|\n",
       "|    min|  2|Alice|\n",
       "|    25%|  2| null|\n",
       "|    75%|  5| null|\n",
       "|    max|  5|  Bob|\n",
       "+-------+---+-----+\n",
       "\n",
       "To do a summary for specific columns first select them:\n",
       "\n",
       ">>> df.select(\"age\", \"name\").summary(\"count\").show()\n",
       "+-------+---+----+\n",
       "|summary|age|name|\n",
       "+-------+---+----+\n",
       "|  count|  2|   2|\n",
       "+-------+---+----+\n",
       "\n",
       "See Also\n",
       "--------\n",
       "DataFrame.display\n",
       "\u001b[0;31mFile:\u001b[0m      /usr/local/spark/python/pyspark/sql/dataframe.py\n",
       "\u001b[0;31mType:\u001b[0m      method\n"
      ]
     },
     "metadata": {},
     "output_type": "display_data"
    }
   ],
   "source": [
    "df.summary?"
   ]
  },
  {
   "cell_type": "code",
   "execution_count": 64,
   "id": "collectible-conducting",
   "metadata": {},
   "outputs": [
    {
     "name": "stdout",
     "output_type": "stream",
     "text": [
      "+-------+------------------+------------------+------------------+\n",
      "|summary|  AcceptedAnswerId|             Score|         ViewCount|\n",
      "+-------+------------------+------------------+------------------+\n",
      "|  count|             56611|            340838|            171236|\n",
      "|   mean|238869.97765451943|3.1019898016066283|1764.6583603915064|\n",
      "| stddev|149560.55326525963| 9.324895269437373|10460.817647981416|\n",
      "|    min|                 5|               -56|                 1|\n",
      "|    max|            499514|              1541|           1221634|\n",
      "+-------+------------------+------------------+------------------+\n",
      "\n"
     ]
    }
   ],
   "source": [
    "df.describe(['AcceptedAnswerId', 'Score', 'ViewCount']).show()"
   ]
  },
  {
   "cell_type": "code",
   "execution_count": 65,
   "id": "textile-chuck",
   "metadata": {},
   "outputs": [
    {
     "name": "stdout",
     "output_type": "stream",
     "text": [
      "-RECORD 0-------------------------------------------------------------------------------------------\n",
      " OwnerUserId_freqItems | [11887, 286664, 284660, 143446, 919, 805, 1352, 21054, 286668]             \n",
      " Tags_freqItems        | [<hypothesis-testing><normal-distribution>, <r><mixed-model><bayes-fact... \n",
      "\n"
     ]
    }
   ],
   "source": [
    "df.freqItems(['OwnerUserId', 'Tags'], support=.1).show(truncate=74, vertical=True)"
   ]
  },
  {
   "cell_type": "code",
   "execution_count": 66,
   "id": "recorded-guinea",
   "metadata": {},
   "outputs": [
    {
     "data": {
      "text/plain": [
       "[-56.0, -56.0, 0.0, 1.0, 1.0, 1.0, 2.0, 2.0, 3.0, 1541.0, 1541.0]"
      ]
     },
     "execution_count": 66,
     "metadata": {},
     "output_type": "execute_result"
    }
   ],
   "source": [
    "df.approxQuantile('Score', [0.0, 0.1, 0.2, 0.3, 0.4, 0.5, 0.6, 0.7, 0.8, 0.9, 1.0], .1)"
   ]
  },
  {
   "cell_type": "code",
   "execution_count": 67,
   "id": "tracked-court",
   "metadata": {},
   "outputs": [
    {
     "data": {
      "text/plain": [
       "0.42433632078607453"
      ]
     },
     "execution_count": 67,
     "metadata": {},
     "output_type": "execute_result"
    }
   ],
   "source": [
    "df.corr('Score', 'ViewCount')"
   ]
  },
  {
   "cell_type": "code",
   "execution_count": null,
   "id": "increased-thousand",
   "metadata": {},
   "outputs": [],
   "source": [
    "df.groupby('Score').count().show()"
   ]
  },
  {
   "cell_type": "code",
   "execution_count": null,
   "id": "dried-correction",
   "metadata": {},
   "outputs": [],
   "source": [
    "df.groupby('Score').count().sort('Score').show()"
   ]
  },
  {
   "cell_type": "code",
   "execution_count": 68,
   "id": "catholic-praise",
   "metadata": {},
   "outputs": [],
   "source": [
    "pandas_df = df.groupby('Score').count().sort('Score').toPandas()"
   ]
  },
  {
   "cell_type": "code",
   "execution_count": 69,
   "id": "incredible-label",
   "metadata": {},
   "outputs": [
    {
     "data": {
      "text/html": [
       "<div>\n",
       "<style scoped>\n",
       "    .dataframe tbody tr th:only-of-type {\n",
       "        vertical-align: middle;\n",
       "    }\n",
       "\n",
       "    .dataframe tbody tr th {\n",
       "        vertical-align: top;\n",
       "    }\n",
       "\n",
       "    .dataframe thead th {\n",
       "        text-align: right;\n",
       "    }\n",
       "</style>\n",
       "<table border=\"1\" class=\"dataframe\">\n",
       "  <thead>\n",
       "    <tr style=\"text-align: right;\">\n",
       "      <th></th>\n",
       "      <th>Score</th>\n",
       "      <th>count</th>\n",
       "    </tr>\n",
       "  </thead>\n",
       "  <tbody>\n",
       "    <tr>\n",
       "      <th>0</th>\n",
       "      <td>-56</td>\n",
       "      <td>1</td>\n",
       "    </tr>\n",
       "    <tr>\n",
       "      <th>1</th>\n",
       "      <td>-17</td>\n",
       "      <td>1</td>\n",
       "    </tr>\n",
       "    <tr>\n",
       "      <th>2</th>\n",
       "      <td>-14</td>\n",
       "      <td>2</td>\n",
       "    </tr>\n",
       "    <tr>\n",
       "      <th>3</th>\n",
       "      <td>-13</td>\n",
       "      <td>1</td>\n",
       "    </tr>\n",
       "    <tr>\n",
       "      <th>4</th>\n",
       "      <td>-10</td>\n",
       "      <td>3</td>\n",
       "    </tr>\n",
       "    <tr>\n",
       "      <th>...</th>\n",
       "      <td>...</td>\n",
       "      <td>...</td>\n",
       "    </tr>\n",
       "    <tr>\n",
       "      <th>273</th>\n",
       "      <td>551</td>\n",
       "      <td>1</td>\n",
       "    </tr>\n",
       "    <tr>\n",
       "      <th>274</th>\n",
       "      <td>639</td>\n",
       "      <td>1</td>\n",
       "    </tr>\n",
       "    <tr>\n",
       "      <th>275</th>\n",
       "      <td>687</td>\n",
       "      <td>1</td>\n",
       "    </tr>\n",
       "    <tr>\n",
       "      <th>276</th>\n",
       "      <td>1118</td>\n",
       "      <td>1</td>\n",
       "    </tr>\n",
       "    <tr>\n",
       "      <th>277</th>\n",
       "      <td>1541</td>\n",
       "      <td>1</td>\n",
       "    </tr>\n",
       "  </tbody>\n",
       "</table>\n",
       "<p>278 rows × 2 columns</p>\n",
       "</div>"
      ],
      "text/plain": [
       "     Score  count\n",
       "0      -56      1\n",
       "1      -17      1\n",
       "2      -14      2\n",
       "3      -13      1\n",
       "4      -10      3\n",
       "..     ...    ...\n",
       "273    551      1\n",
       "274    639      1\n",
       "275    687      1\n",
       "276   1118      1\n",
       "277   1541      1\n",
       "\n",
       "[278 rows x 2 columns]"
      ]
     },
     "execution_count": 69,
     "metadata": {},
     "output_type": "execute_result"
    }
   ],
   "source": [
    "# do some scikit-learn or pytorch"
   ]
  },
  {
   "cell_type": "code",
   "execution_count": 70,
   "id": "driving-davis",
   "metadata": {},
   "outputs": [
    {
     "data": {
      "text/plain": [
       "<AxesSubplot:>"
      ]
     },
     "execution_count": 70,
     "metadata": {},
     "output_type": "execute_result"
    },
    {
     "data": {
      "image/png": "[encoded data removed]",
      "text/plain": [
       "<Figure size 432x288 with 1 Axes>"
      ]
     },
     "metadata": {
      "needs_background": "light"
     },
     "output_type": "display_data"
    }
   ],
   "source": [
    "pandas_df.plot()"
   ]
  },
  {
   "cell_type": "code",
   "execution_count": 71,
   "id": "perceived-album",
   "metadata": {},
   "outputs": [
    {
     "data": {
      "text/plain": [
       "<AxesSubplot:>"
      ]
     },
     "execution_count": 71,
     "metadata": {},
     "output_type": "execute_result"
    },
    {
     "data": {
      "image/png": "[encoded data removed]",
      "text/plain": [
       "<Figure size 432x288 with 1 Axes>"
      ]
     },
     "metadata": {
      "needs_background": "light"
     },
     "output_type": "display_data"
    }
   ],
   "source": [
    "pandas_df[pandas_df['Score'] < 30].plot()"
   ]
  },
  {
   "cell_type": "code",
   "execution_count": null,
   "id": "silver-cleaning",
   "metadata": {},
   "outputs": [],
   "source": []
  }
 ],
 "metadata": {
  "kernelspec": {
   "display_name": "Python 3",
   "language": "python",
   "name": "python3"
  },
  "language_info": {
   "codemirror_mode": {
    "name": "ipython",
    "version": 3
   },
   "file_extension": ".py",
   "mimetype": "text/x-python",
   "name": "python",
   "nbconvert_exporter": "python",
   "pygments_lexer": "ipython3",
   "version": "3.8.8"
  }
 },
 "nbformat": 4,
 "nbformat_minor": 5
}
