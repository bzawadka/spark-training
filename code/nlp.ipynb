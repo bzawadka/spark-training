{
 "cells": [
  {
   "cell_type": "code",
   "execution_count": 1,
   "id": "laughing-restriction",
   "metadata": {},
   "outputs": [],
   "source": [
    "import string\n",
    "import numpy as np\n",
    "\n",
    "from pyspark.sql import SparkSession\n",
    "from pyspark.sql.functions import split, regexp_replace, lower, col, explode, regexp_extract\n",
    "import pyspark.sql.functions as F\n",
    "import pyspark.sql.types as T\n",
    "\n",
    "from pyspark.ml import Pipeline\n",
    "from pyspark.ml.feature import CountVectorizer, Tokenizer, StopWordsRemover, HashingTF, IDF\n",
    "from pyspark.ml.clustering import LDA, LocalLDAModel, DistributedLDAModel\n",
    "from pyspark.ml.tuning import CrossValidator, ParamGridBuilder\n",
    "\n",
    "spark = SparkSession.builder.getOrCreate()"
   ]
  },
  {
   "cell_type": "code",
   "execution_count": 2,
   "id": "cordless-tampa",
   "metadata": {},
   "outputs": [
    {
     "name": "stdout",
     "output_type": "stream",
     "text": [
      "root\n",
      " |-- AcceptedAnswerId: long (nullable = true)\n",
      " |-- AnswerCount: long (nullable = true)\n",
      " |-- Body: string (nullable = true)\n",
      " |-- CommentCount: long (nullable = true)\n",
      " |-- ContentLicense: string (nullable = true)\n",
      " |-- CreationDate: timestamp (nullable = true)\n",
      " |-- FavoriteCount: long (nullable = true)\n",
      " |-- Id: long (nullable = true)\n",
      " |-- LastActivityDate: timestamp (nullable = true)\n",
      " |-- OwnerUserId: long (nullable = true)\n",
      " |-- PostTypeId: long (nullable = true)\n",
      " |-- Score: long (nullable = true)\n",
      " |-- Tags: string (nullable = true)\n",
      " |-- Title: string (nullable = true)\n",
      " |-- ViewCount: long (nullable = true)\n",
      "\n"
     ]
    }
   ],
   "source": [
    "df = spark.read.orc('data/dataframe.orc')\n",
    "df.printSchema()"
   ]
  },
  {
   "cell_type": "code",
   "execution_count": 3,
   "id": "radical-country",
   "metadata": {},
   "outputs": [
    {
     "data": {
      "text/plain": [
       "340838"
      ]
     },
     "execution_count": 3,
     "metadata": {},
     "output_type": "execute_result"
    }
   ],
   "source": [
    "df.count()"
   ]
  },
  {
   "cell_type": "code",
   "execution_count": 4,
   "id": "complicated-singing",
   "metadata": {},
   "outputs": [
    {
     "name": "stdout",
     "output_type": "stream",
     "text": [
      "+--------------------+--------------------+-----+--------------------+----------+\n",
      "|               Title|                Body|Score|                Tags|PostTypeId|\n",
      "+--------------------+--------------------+-----+--------------------+----------+\n",
      "|Coding the regres...|<p>Say I have 5 b...|    0|<r><regression><l...|         1|\n",
      "|                null|<p>I recommend yo...|    2|                null|         2|\n",
      "|Why dummy variabl...|<p>I was speaking...|    3|  <categorical-data>|         1|\n",
      "|Binomial random v...|<p>I've been read...|    4|<chi-squared><bin...|         1|\n",
      "| Analyze proportions|<p>I have a datas...|   13|    <r><multinomial>|         1|\n",
      "|                null|<p>The terminolog...|    6|                null|         2|\n",
      "|                null|<p>Perhaps he is ...|    3|                null|         2|\n",
      "|                null|<p>Like Michelle ...|    3|                null|         2|\n",
      "|Simulating financ...|<p>I would like t...|    1|<r><distributions...|         1|\n",
      "|Multiple regressi...|<p>I am performin...|    6|<r><time-series><...|         1|\n",
      "|Winning percentag...|<p>Suppose I want...|    4|<regression><gene...|         1|\n",
      "|Chi-square test p...|<p>A colleague of...|    1|<distributions><c...|         1|\n",
      "|                null|<p>What you descr...|   -1|                null|         2|\n",
      "|Using a random va...|<p>The necessary ...|    0|<distributions><r...|         1|\n",
      "|                null|<p>This is not a ...|    2|                null|         2|\n",
      "|                null|<p>Let's focus on...|   11|                null|         2|\n",
      "|Treating a variab...|<p>Suppose a vari...|    1|  <categorical-data>|         1|\n",
      "|Is it ever good t...|<p>Suppose you ar...|    6|<statistical-sign...|         1|\n",
      "|                null|<p><em>Just</em> ...|   17|                null|         2|\n",
      "|                null|<p>As Aniko sugge...|    0|                null|         2|\n",
      "+--------------------+--------------------+-----+--------------------+----------+\n",
      "only showing top 20 rows\n",
      "\n"
     ]
    }
   ],
   "source": [
    "# https://meta.stackexchange.com/questions/2677/database-schema-documentation-for-the-public-data-dump-and-sede\n",
    "df.select('Title', 'Body', 'Score', 'Tags', 'PostTypeId').show()"
   ]
  },
  {
   "cell_type": "code",
   "execution_count": 5,
   "id": "prompt-singles",
   "metadata": {},
   "outputs": [
    {
     "data": {
      "text/plain": [
       "171236"
      ]
     },
     "execution_count": 5,
     "metadata": {},
     "output_type": "execute_result"
    }
   ],
   "source": [
    "# Get only questions\n",
    "questions = df.filter(col('PostTypeId') == 1)\n",
    "questions.count()"
   ]
  },
  {
   "cell_type": "code",
   "execution_count": 6,
   "id": "optical-music",
   "metadata": {},
   "outputs": [],
   "source": [
    "tokenizer = Tokenizer(inputCol=\"Body\", outputCol=\"words\")\n",
    "stopwords = StopWordsRemover(inputCol=tokenizer.getOutputCol(), outputCol=\"stopwords\")\n",
    "punctuation = StopWordsRemover(inputCol=stopwords.getOutputCol(), outputCol=\"filtered\", stopWords=[''] + list(string.punctuation))\n",
    "\n",
    "stages = [tokenizer, stopwords, punctuation]\n",
    "pipeline = Pipeline(stages=stages)"
   ]
  },
  {
   "cell_type": "code",
   "execution_count": 7,
   "id": "primary-atlas",
   "metadata": {},
   "outputs": [
    {
     "data": {
      "text/plain": [
       "Tokenizer_fd24f6d38096"
      ]
     },
     "execution_count": 7,
     "metadata": {},
     "output_type": "execute_result"
    }
   ],
   "source": [
    "tokenizer"
   ]
  },
  {
   "cell_type": "code",
   "execution_count": 8,
   "id": "ignored-public",
   "metadata": {},
   "outputs": [],
   "source": [
    "words = pipeline.fit(questions).transform(questions)"
   ]
  },
  {
   "cell_type": "code",
   "execution_count": 9,
   "id": "double-senator",
   "metadata": {},
   "outputs": [
    {
     "name": "stdout",
     "output_type": "stream",
     "text": [
      "+--------------------+--------------------+--------------------+\n",
      "|                Body|               words|            filtered|\n",
      "+--------------------+--------------------+--------------------+\n",
      "|<p>Say I have 5 b...|[<p>say, i, have,...|[<p>say, 5, binar...|\n",
      "|<p>I was speaking...|[<p>i, was, speak...|[<p>i, speaking, ...|\n",
      "|<p>I've been read...|[<p>i've, been, r...|[<p>i've, reading...|\n",
      "|<p>I have a datas...|[<p>i, have, a, d...|[<p>i, dataset, c...|\n",
      "|<p>I would like t...|[<p>i, would, lik...|[<p>i, like, gene...|\n",
      "|<p>I am performin...|[<p>i, am, perfor...|[<p>i, performing...|\n",
      "|<p>Suppose I want...|[<p>suppose, i, w...|[<p>suppose, want...|\n",
      "|<p>A colleague of...|[<p>a, colleague,...|[<p>a, colleague,...|\n",
      "|<p>The necessary ...|[<p>the, necessar...|[<p>the, necessar...|\n",
      "|<p>Suppose a vari...|[<p>suppose, a, v...|[<p>suppose, vari...|\n",
      "|<p>Suppose you ar...|[<p>suppose, you,...|[<p>suppose, usin...|\n",
      "|<p>I am trying to...|[<p>i, am, trying...|[<p>i, trying, pr...|\n",
      "|<p>If I am select...|[<p>if, i, am, se...|[<p>if, selecting...|\n",
      "|<p>For $a_1,a_2$ ...|[<p>for, $a_1,a_2...|[<p>for, $a_1,a_2...|\n",
      "|<p>Let's say I ha...|[<p>let's, say, i...|[<p>let's, say, t...|\n",
      "|<p>I have an $n\\t...|[<p>i, have, an, ...|[<p>i, $n\\times, ...|\n",
      "|<p>Using Cohen's ...|[<p>using, cohen'...|[<p>using, cohen'...|\n",
      "|<p>I want to do m...|[<p>i, want, to, ...|[<p>i, want, mult...|\n",
      "|<p>Suppose you ha...|[<p>suppose, you,...|[<p>suppose, vari...|\n",
      "|<p>Suppose that I...|[<p>suppose, that...|[<p>suppose, inte...|\n",
      "+--------------------+--------------------+--------------------+\n",
      "only showing top 20 rows\n",
      "\n"
     ]
    }
   ],
   "source": [
    "words.select('Body', 'words', 'filtered').show()"
   ]
  },
  {
   "cell_type": "code",
   "execution_count": 10,
   "id": "forward-collaboration",
   "metadata": {},
   "outputs": [
    {
     "name": "stdout",
     "output_type": "stream",
     "text": [
      "root\n",
      " |-- AcceptedAnswerId: long (nullable = true)\n",
      " |-- AnswerCount: long (nullable = true)\n",
      " |-- Body: string (nullable = true)\n",
      " |-- CommentCount: long (nullable = true)\n",
      " |-- ContentLicense: string (nullable = true)\n",
      " |-- CreationDate: timestamp (nullable = true)\n",
      " |-- FavoriteCount: long (nullable = true)\n",
      " |-- Id: long (nullable = true)\n",
      " |-- LastActivityDate: timestamp (nullable = true)\n",
      " |-- OwnerUserId: long (nullable = true)\n",
      " |-- PostTypeId: long (nullable = true)\n",
      " |-- Score: long (nullable = true)\n",
      " |-- Tags: string (nullable = true)\n",
      " |-- Title: string (nullable = true)\n",
      " |-- ViewCount: long (nullable = true)\n",
      " |-- words: array (nullable = true)\n",
      " |    |-- element: string (containsNull = true)\n",
      " |-- stopwords: array (nullable = true)\n",
      " |    |-- element: string (containsNull = true)\n",
      " |-- filtered: array (nullable = true)\n",
      " |    |-- element: string (containsNull = true)\n",
      "\n"
     ]
    }
   ],
   "source": [
    "words.printSchema()"
   ]
  },
  {
   "cell_type": "code",
   "execution_count": 11,
   "id": "worthy-cabinet",
   "metadata": {},
   "outputs": [
    {
     "name": "stdout",
     "output_type": "stream",
     "text": [
      "CPU times: user 5.87 ms, sys: 2.19 ms, total: 8.06 ms\n",
      "Wall time: 184 ms\n"
     ]
    }
   ],
   "source": [
    "%%time\n",
    "word_count = words.select(explode(col('filtered')).alias('word')).groupby('word').count().cache()"
   ]
  },
  {
   "cell_type": "code",
   "execution_count": 12,
   "id": "mexican-commitment",
   "metadata": {},
   "outputs": [
    {
     "name": "stdout",
     "output_type": "stream",
     "text": [
      "+--------------------+\n",
      "|                word|\n",
      "+--------------------+\n",
      "|                 ...|\n",
      "|          $x_2$?</p>|\n",
      "|               still|\n",
      "|                $y$,|\n",
      "|        estimate</p>|\n",
      "|               input|\n",
      "|         interaction|\n",
      "|                hope|\n",
      "|           traveling|\n",
      "|              travel|\n",
      "|     <p><strong>more|\n",
      "|        package.</p>|\n",
      "|           connected|\n",
      "|                 art|\n",
      "|            randomly|\n",
      "|            incoming|\n",
      "|           compared,|\n",
      "|aforge.net(http:/...|\n",
      "|               $x_1,|\n",
      "|href=\"http://en.w...|\n",
      "+--------------------+\n",
      "only showing top 20 rows\n",
      "\n"
     ]
    }
   ],
   "source": [
    "word_count.select('word').show()"
   ]
  },
  {
   "cell_type": "code",
   "execution_count": 13,
   "id": "corrected-celebrity",
   "metadata": {},
   "outputs": [
    {
     "name": "stdout",
     "output_type": "stream",
     "text": [
      "+-------------+------+\n",
      "|word         |count |\n",
      "+-------------+------+\n",
      "|<p>i         |151937|\n",
      "|<span        |141991|\n",
      "|</p>         |132687|\n",
      "|data         |120309|\n",
      "|model        |92518 |\n",
      "|1            |90506 |\n",
      "|0            |80010 |\n",
      "|using        |70099 |\n",
      "|one          |65569 |\n",
      "|use          |63693 |\n",
      "|</code></pre>|62856 |\n",
      "|&lt;-        |61607 |\n",
      "|like         |58256 |\n",
      "|two          |58176 |\n",
      "|test         |52410 |\n",
      "|rel=\"nofollow|51207 |\n",
      "|2            |50569 |\n",
      "|<a           |50246 |\n",
      "|different    |46631 |\n",
      "|time         |45278 |\n",
      "+-------------+------+\n",
      "only showing top 20 rows\n",
      "\n",
      "CPU times: user 1.55 ms, sys: 6.13 ms, total: 7.68 ms\n",
      "Wall time: 5.24 s\n"
     ]
    }
   ],
   "source": [
    "%%time\n",
    "word_count.sort(col('count').desc()).show(truncate=False)"
   ]
  },
  {
   "cell_type": "code",
   "execution_count": 14,
   "id": "unauthorized-bridal",
   "metadata": {},
   "outputs": [
    {
     "name": "stdout",
     "output_type": "stream",
     "text": [
      "+-----------------------------------------------------------+-----+\n",
      "|word                                                       |count|\n",
      "+-----------------------------------------------------------+-----+\n",
      "|mix).                                                      |1    |\n",
      "|rnorm(43,                                                  |1    |\n",
      "|0.33564053                                                 |1    |\n",
      "|lot..</p>                                                  |1    |\n",
      "|-0.064328                                                  |1    |\n",
      "|-1.23890500515482                                          |1    |\n",
      "|not-quite-significant                                      |1    |\n",
      "|empid,                                                     |1    |\n",
      "|xn:</p>                                                    |1    |\n",
      "|0.144669                                                   |1    |\n",
      "|log-log?</p>                                               |1    |\n",
      "|<p>also,the                                                |1    |\n",
      "|p^k(1-p)^{m_i                                              |1    |\n",
      "|randse)))</code></p>                                       |1    |\n",
      "|-5.9059                                                    |1    |\n",
      "|can/do/how                                                 |1    |\n",
      "|3,300,4                                                    |1    |\n",
      "|n(\\mu_a,s^2)$,                                             |1    |\n",
      "|href=\"http://www.cs.cmu.edu/~tom/10701_sp11/lectures.shtml\"|1    |\n",
      "|4.647                                                      |1    |\n",
      "+-----------------------------------------------------------+-----+\n",
      "only showing top 20 rows\n",
      "\n"
     ]
    }
   ],
   "source": [
    "word_count.sort(col('count').asc()).show(truncate=False)"
   ]
  },
  {
   "cell_type": "code",
   "execution_count": 15,
   "id": "durable-snake",
   "metadata": {},
   "outputs": [
    {
     "data": {
      "text/plain": [
       "1958634"
      ]
     },
     "execution_count": 15,
     "metadata": {},
     "output_type": "execute_result"
    }
   ],
   "source": [
    "word_count.count()"
   ]
  },
  {
   "cell_type": "code",
   "execution_count": 16,
   "id": "hairy-iraqi",
   "metadata": {},
   "outputs": [],
   "source": [
    "VOCAB_SIZE = 100000\n",
    "vocab = word_count.sort(col('count').desc()).limit(VOCAB_SIZE).toPandas()"
   ]
  },
  {
   "cell_type": "code",
   "execution_count": 17,
   "id": "alpine-morning",
   "metadata": {},
   "outputs": [
    {
     "data": {
      "text/html": [
       "<div>\n",
       "<style scoped>\n",
       "    .dataframe tbody tr th:only-of-type {\n",
       "        vertical-align: middle;\n",
       "    }\n",
       "\n",
       "    .dataframe tbody tr th {\n",
       "        vertical-align: top;\n",
       "    }\n",
       "\n",
       "    .dataframe thead th {\n",
       "        text-align: right;\n",
       "    }\n",
       "</style>\n",
       "<table border=\"1\" class=\"dataframe\">\n",
       "  <thead>\n",
       "    <tr style=\"text-align: right;\">\n",
       "      <th></th>\n",
       "      <th>word</th>\n",
       "      <th>count</th>\n",
       "    </tr>\n",
       "  </thead>\n",
       "  <tbody>\n",
       "    <tr>\n",
       "      <th>0</th>\n",
       "      <td>&lt;p&gt;i</td>\n",
       "      <td>151937</td>\n",
       "    </tr>\n",
       "    <tr>\n",
       "      <th>1</th>\n",
       "      <td>&lt;span</td>\n",
       "      <td>141991</td>\n",
       "    </tr>\n",
       "    <tr>\n",
       "      <th>2</th>\n",
       "      <td>&lt;/p&gt;</td>\n",
       "      <td>132687</td>\n",
       "    </tr>\n",
       "    <tr>\n",
       "      <th>3</th>\n",
       "      <td>data</td>\n",
       "      <td>120309</td>\n",
       "    </tr>\n",
       "    <tr>\n",
       "      <th>4</th>\n",
       "      <td>model</td>\n",
       "      <td>92518</td>\n",
       "    </tr>\n",
       "    <tr>\n",
       "      <th>...</th>\n",
       "      <td>...</td>\n",
       "      <td>...</td>\n",
       "    </tr>\n",
       "    <tr>\n",
       "      <th>99995</th>\n",
       "      <td>1125l,</td>\n",
       "      <td>7</td>\n",
       "    </tr>\n",
       "    <tr>\n",
       "      <th>99996</th>\n",
       "      <td>year-over-year</td>\n",
       "      <td>7</td>\n",
       "    </tr>\n",
       "    <tr>\n",
       "      <th>99997</th>\n",
       "      <td>(0.05,</td>\n",
       "      <td>7</td>\n",
       "    </tr>\n",
       "    <tr>\n",
       "      <th>99998</th>\n",
       "      <td>float32</td>\n",
       "      <td>7</td>\n",
       "    </tr>\n",
       "    <tr>\n",
       "      <th>99999</th>\n",
       "      <td>skiers</td>\n",
       "      <td>7</td>\n",
       "    </tr>\n",
       "  </tbody>\n",
       "</table>\n",
       "<p>100000 rows × 2 columns</p>\n",
       "</div>"
      ],
      "text/plain": [
       "                 word   count\n",
       "0                <p>i  151937\n",
       "1               <span  141991\n",
       "2                </p>  132687\n",
       "3                data  120309\n",
       "4               model   92518\n",
       "...               ...     ...\n",
       "99995          1125l,       7\n",
       "99996  year-over-year       7\n",
       "99997          (0.05,       7\n",
       "99998         float32       7\n",
       "99999          skiers       7\n",
       "\n",
       "[100000 rows x 2 columns]"
      ]
     },
     "execution_count": 17,
     "metadata": {},
     "output_type": "execute_result"
    }
   ],
   "source": [
    "vocab"
   ]
  },
  {
   "cell_type": "code",
   "execution_count": 18,
   "id": "continued-billion",
   "metadata": {},
   "outputs": [
    {
     "data": {
      "text/plain": [
       "<AxesSubplot:>"
      ]
     },
     "execution_count": 18,
     "metadata": {},
     "output_type": "execute_result"
    },
    {
     "data": {
      "image/png": "[encoded data removed]",
      "text/plain": [
       "<Figure size 432x288 with 1 Axes>"
      ]
     },
     "metadata": {
      "needs_background": "light"
     },
     "output_type": "display_data"
    }
   ],
   "source": [
    "vocab['count'].plot()"
   ]
  },
  {
   "cell_type": "code",
   "execution_count": 19,
   "id": "healthy-keyboard",
   "metadata": {},
   "outputs": [
    {
     "data": {
      "text/plain": [
       "<AxesSubplot:>"
      ]
     },
     "execution_count": 19,
     "metadata": {},
     "output_type": "execute_result"
    },
    {
     "data": {
      "image/png": "[encoded data removed]",
      "text/plain": [
       "<Figure size 432x288 with 1 Axes>"
      ]
     },
     "metadata": {
      "needs_background": "light"
     },
     "output_type": "display_data"
    }
   ],
   "source": [
    "vocab.iloc[3:1000]['count'].plot()"
   ]
  },
  {
   "cell_type": "code",
   "execution_count": 20,
   "id": "earlier-completion",
   "metadata": {},
   "outputs": [
    {
     "data": {
      "text/html": [
       "<div>\n",
       "<style scoped>\n",
       "    .dataframe tbody tr th:only-of-type {\n",
       "        vertical-align: middle;\n",
       "    }\n",
       "\n",
       "    .dataframe tbody tr th {\n",
       "        vertical-align: top;\n",
       "    }\n",
       "\n",
       "    .dataframe thead th {\n",
       "        text-align: right;\n",
       "    }\n",
       "</style>\n",
       "<table border=\"1\" class=\"dataframe\">\n",
       "  <thead>\n",
       "    <tr style=\"text-align: right;\">\n",
       "      <th></th>\n",
       "      <th>word</th>\n",
       "      <th>count</th>\n",
       "    </tr>\n",
       "  </thead>\n",
       "  <tbody>\n",
       "    <tr>\n",
       "      <th>0</th>\n",
       "      <td>&lt;p&gt;i</td>\n",
       "      <td>151937</td>\n",
       "    </tr>\n",
       "    <tr>\n",
       "      <th>1</th>\n",
       "      <td>&lt;span</td>\n",
       "      <td>141991</td>\n",
       "    </tr>\n",
       "    <tr>\n",
       "      <th>2</th>\n",
       "      <td>&lt;/p&gt;</td>\n",
       "      <td>132687</td>\n",
       "    </tr>\n",
       "    <tr>\n",
       "      <th>3</th>\n",
       "      <td>data</td>\n",
       "      <td>120309</td>\n",
       "    </tr>\n",
       "    <tr>\n",
       "      <th>4</th>\n",
       "      <td>model</td>\n",
       "      <td>92518</td>\n",
       "    </tr>\n",
       "    <tr>\n",
       "      <th>5</th>\n",
       "      <td>1</td>\n",
       "      <td>90506</td>\n",
       "    </tr>\n",
       "    <tr>\n",
       "      <th>6</th>\n",
       "      <td>0</td>\n",
       "      <td>80010</td>\n",
       "    </tr>\n",
       "    <tr>\n",
       "      <th>7</th>\n",
       "      <td>using</td>\n",
       "      <td>70099</td>\n",
       "    </tr>\n",
       "    <tr>\n",
       "      <th>8</th>\n",
       "      <td>one</td>\n",
       "      <td>65569</td>\n",
       "    </tr>\n",
       "    <tr>\n",
       "      <th>9</th>\n",
       "      <td>use</td>\n",
       "      <td>63693</td>\n",
       "    </tr>\n",
       "  </tbody>\n",
       "</table>\n",
       "</div>"
      ],
      "text/plain": [
       "    word   count\n",
       "0   <p>i  151937\n",
       "1  <span  141991\n",
       "2   </p>  132687\n",
       "3   data  120309\n",
       "4  model   92518\n",
       "5      1   90506\n",
       "6      0   80010\n",
       "7  using   70099\n",
       "8    one   65569\n",
       "9    use   63693"
      ]
     },
     "execution_count": 20,
     "metadata": {},
     "output_type": "execute_result"
    }
   ],
   "source": [
    "vocab.head(10)"
   ]
  },
  {
   "cell_type": "code",
   "execution_count": 21,
   "id": "spatial-signal",
   "metadata": {},
   "outputs": [],
   "source": [
    "lookup = dict(vocab.reset_index().set_index('word')['index'])"
   ]
  },
  {
   "cell_type": "code",
   "execution_count": 22,
   "id": "lyric-championship",
   "metadata": {},
   "outputs": [],
   "source": [
    "def bag_of_words(words: list) -> list:\n",
    "    bag = np.zeros(VOCAB_SIZE, dtype=int)\n",
    "    \n",
    "    for word in words:\n",
    "        if word in lookup:\n",
    "            bag[lookup[word]] += 1\n",
    "        \n",
    "    return bag.tolist()"
   ]
  },
  {
   "cell_type": "code",
   "execution_count": 23,
   "id": "solid-civilization",
   "metadata": {},
   "outputs": [],
   "source": [
    "SparkBag = T.ArrayType(T.LongType())\n",
    "\n",
    "count_vectorizer = F.udf(bag_of_words, SparkBag)"
   ]
  },
  {
   "cell_type": "code",
   "execution_count": 24,
   "id": "separate-humanitarian",
   "metadata": {},
   "outputs": [],
   "source": [
    "vectorized = words.withColumn('vector', count_vectorizer(F.col('filtered')))"
   ]
  },
  {
   "cell_type": "code",
   "execution_count": 25,
   "id": "associate-developer",
   "metadata": {},
   "outputs": [
    {
     "name": "stdout",
     "output_type": "stream",
     "text": [
      "+--------------------+--------------------+--------------------+--------------------+--------------------+--------------------+\n",
      "|               Title|                Body|               words|           stopwords|            filtered|              vector|\n",
      "+--------------------+--------------------+--------------------+--------------------+--------------------+--------------------+\n",
      "|Coding the regres...|<p>Say I have 5 b...|[<p>say, i, have,...|[<p>say, 5, binar...|[<p>say, 5, binar...|[1, 0, 0, 0, 0, 2...|\n",
      "|Why dummy variabl...|<p>I was speaking...|[<p>i, was, speak...|[<p>i, speaking, ...|[<p>i, speaking, ...|[1, 0, 0, 0, 0, 0...|\n",
      "|Binomial random v...|<p>I've been read...|[<p>i've, been, r...|[<p>i've, reading...|[<p>i've, reading...|[1, 0, 0, 0, 0, 1...|\n",
      "| Analyze proportions|<p>I have a datas...|[<p>i, have, a, d...|[<p>i, dataset, c...|[<p>i, dataset, c...|[1, 0, 0, 0, 1, 2...|\n",
      "|Simulating financ...|<p>I would like t...|[<p>i, would, lik...|[<p>i, like, gene...|[<p>i, like, gene...|[1, 0, 1, 0, 0, 0...|\n",
      "|Multiple regressi...|<p>I am performin...|[<p>i, am, perfor...|[<p>i, performing...|[<p>i, performing...|[1, 0, 0, 0, 1, 1...|\n",
      "|Winning percentag...|<p>Suppose I want...|[<p>suppose, i, w...|[<p>suppose, want...|[<p>suppose, want...|[0, 0, 4, 0, 0, 1...|\n",
      "|Chi-square test p...|<p>A colleague of...|[<p>a, colleague,...|[<p>a, colleague,...|[<p>a, colleague,...|[1, 0, 0, 3, 0, 1...|\n",
      "|Using a random va...|<p>The necessary ...|[<p>the, necessar...|[<p>the, necessar...|[<p>the, necessar...|[0, 0, 0, 0, 2, 0...|\n",
      "|Treating a variab...|<p>Suppose a vari...|[<p>suppose, a, v...|[<p>suppose, vari...|[<p>suppose, vari...|[0, 0, 0, 0, 0, 0...|\n",
      "|Is it ever good t...|<p>Suppose you ar...|[<p>suppose, you,...|[<p>suppose, usin...|[<p>suppose, usin...|[0, 0, 0, 0, 0, 0...|\n",
      "|Gibbs sampler fro...|<p>I am trying to...|[<p>i, am, trying...|[<p>i, trying, pr...|[<p>i, trying, pr...|[2, 0, 1, 0, 0, 0...|\n",
      "|What is the proba...|<p>If I am select...|[<p>if, i, am, se...|[<p>if, selecting...|[<p>if, selecting...|[0, 0, 0, 0, 0, 2...|\n",
      "|Perturbations of ...|<p>For $a_1,a_2$ ...|[<p>for, $a_1,a_2...|[<p>for, $a_1,a_2...|[<p>for, $a_1,a_2...|[0, 0, 3, 0, 0, 0...|\n",
      "|How can I calcula...|<p>Let's say I ha...|[<p>let's, say, i...|[<p>let's, say, t...|[<p>let's, say, t...|[1, 0, 0, 0, 0, 0...|\n",
      "|Mahalanobis dista...|<p>I have an $n\\t...|[<p>i, have, an, ...|[<p>i, $n\\times, ...|[<p>i, $n\\times, ...|[2, 0, 0, 1, 0, 0...|\n",
      "|Effect size and s...|<p>Using Cohen's ...|[<p>using, cohen'...|[<p>using, cohen'...|[<p>using, cohen'...|[0, 0, 0, 0, 0, 0...|\n",
      "|How to choose the...|<p>I want to do m...|[<p>i, want, to, ...|[<p>i, want, mult...|[<p>i, want, mult...|[2, 0, 1, 0, 0, 0...|\n",
      "|   Interaction terms|<p>Suppose you ha...|[<p>suppose, you,...|[<p>suppose, vari...|[<p>suppose, vari...|[0, 0, 1, 0, 0, 1...|\n",
      "|Cross validation ...|<p>Suppose that I...|[<p>suppose, that...|[<p>suppose, inte...|[<p>suppose, inte...|[1, 0, 0, 0, 3, 0...|\n",
      "+--------------------+--------------------+--------------------+--------------------+--------------------+--------------------+\n",
      "only showing top 20 rows\n",
      "\n"
     ]
    }
   ],
   "source": [
    "vectorized.select('Title', 'Body', 'words', 'stopwords', 'filtered', 'vector').show()"
   ]
  },
  {
   "cell_type": "code",
   "execution_count": 26,
   "id": "emotional-hartford",
   "metadata": {},
   "outputs": [],
   "source": [
    "tf = CountVectorizer(inputCol=punctuation.getOutputCol(), outputCol=\"counts\", minDF=2.0, vocabSize=50000)\n",
    "idf = IDF(inputCol=tf.getOutputCol(), outputCol=\"features\")\n",
    "\n",
    "pipeline = Pipeline(stages=stages + [tf, idf])"
   ]
  },
  {
   "cell_type": "code",
   "execution_count": 27,
   "id": "weird-trout",
   "metadata": {},
   "outputs": [
    {
     "data": {
      "text/plain": [
       "[Tokenizer_fd24f6d38096,\n",
       " StopWordsRemover_f047fd13788e,\n",
       " StopWordsRemover_700654d73bc0,\n",
       " CountVectorizer_119931c6c66d,\n",
       " IDF_31a4dad0182f]"
      ]
     },
     "execution_count": 27,
     "metadata": {},
     "output_type": "execute_result"
    }
   ],
   "source": [
    "stages + [tf, idf]"
   ]
  },
  {
   "cell_type": "code",
   "execution_count": 28,
   "id": "suited-procurement",
   "metadata": {},
   "outputs": [],
   "source": [
    "tfidf = pipeline.fit(questions)"
   ]
  },
  {
   "cell_type": "code",
   "execution_count": 29,
   "id": "working-sustainability",
   "metadata": {},
   "outputs": [],
   "source": [
    "features = tfidf.transform(questions)"
   ]
  },
  {
   "cell_type": "code",
   "execution_count": 30,
   "id": "helpful-perth",
   "metadata": {},
   "outputs": [
    {
     "name": "stdout",
     "output_type": "stream",
     "text": [
      "root\n",
      " |-- AcceptedAnswerId: long (nullable = true)\n",
      " |-- AnswerCount: long (nullable = true)\n",
      " |-- Body: string (nullable = true)\n",
      " |-- CommentCount: long (nullable = true)\n",
      " |-- ContentLicense: string (nullable = true)\n",
      " |-- CreationDate: timestamp (nullable = true)\n",
      " |-- FavoriteCount: long (nullable = true)\n",
      " |-- Id: long (nullable = true)\n",
      " |-- LastActivityDate: timestamp (nullable = true)\n",
      " |-- OwnerUserId: long (nullable = true)\n",
      " |-- PostTypeId: long (nullable = true)\n",
      " |-- Score: long (nullable = true)\n",
      " |-- Tags: string (nullable = true)\n",
      " |-- Title: string (nullable = true)\n",
      " |-- ViewCount: long (nullable = true)\n",
      " |-- words: array (nullable = true)\n",
      " |    |-- element: string (containsNull = true)\n",
      " |-- stopwords: array (nullable = true)\n",
      " |    |-- element: string (containsNull = true)\n",
      " |-- filtered: array (nullable = true)\n",
      " |    |-- element: string (containsNull = true)\n",
      " |-- counts: vector (nullable = true)\n",
      " |-- features: vector (nullable = true)\n",
      "\n"
     ]
    }
   ],
   "source": [
    "features.printSchema()"
   ]
  },
  {
   "cell_type": "code",
   "execution_count": 31,
   "id": "fabulous-karma",
   "metadata": {},
   "outputs": [
    {
     "name": "stdout",
     "output_type": "stream",
     "text": [
      "+--------------------+--------------------+--------------------+--------------------+--------------------+--------------------+\n",
      "|                Body|               words|           stopwords|            filtered|              counts|            features|\n",
      "+--------------------+--------------------+--------------------+--------------------+--------------------+--------------------+\n",
      "|<p>Say I have 5 b...|[<p>say, i, have,...|[<p>say, 5, binar...|[<p>say, 5, binar...|(50000,[0,5,8,16,...|(50000,[0,5,8,16,...|\n",
      "|<p>I was speaking...|[<p>i, was, speak...|[<p>i, speaking, ...|[<p>i, speaking, ...|(50000,[0,7,8,24,...|(50000,[0,7,8,24,...|\n",
      "|<p>I've been read...|[<p>i've, been, r...|[<p>i've, reading...|[<p>i've, reading...|(50000,[0,5,10,13...|(50000,[0,5,10,13...|\n",
      "|<p>I have a datas...|[<p>i, have, a, d...|[<p>i, dataset, c...|[<p>i, dataset, c...|(50000,[0,4,5,8,9...|(50000,[0,4,5,8,9...|\n",
      "|<p>I would like t...|[<p>i, would, lik...|[<p>i, like, gene...|[<p>i, like, gene...|(50000,[0,2,8,11,...|(50000,[0,2,8,11,...|\n",
      "|<p>I am performin...|[<p>i, am, perfor...|[<p>i, performing...|[<p>i, performing...|(50000,[0,4,5,6,2...|(50000,[0,4,5,6,2...|\n",
      "|<p>Suppose I want...|[<p>suppose, i, w...|[<p>suppose, want...|[<p>suppose, want...|(50000,[2,5,6,12,...|(50000,[2,5,6,12,...|\n",
      "|<p>A colleague of...|[<p>a, colleague,...|[<p>a, colleague,...|[<p>a, colleague,...|(50000,[0,3,5,8,1...|(50000,[0,3,5,8,1...|\n",
      "|<p>The necessary ...|[<p>the, necessar...|[<p>the, necessar...|[<p>the, necessar...|(50000,[4,9,21,23...|(50000,[4,9,21,23...|\n",
      "|<p>Suppose a vari...|[<p>suppose, a, v...|[<p>suppose, vari...|[<p>suppose, vari...|(50000,[24,107,11...|(50000,[24,107,11...|\n",
      "|<p>Suppose you ar...|[<p>suppose, you,...|[<p>suppose, usin...|[<p>suppose, usin...|(50000,[7,114,148...|(50000,[7,114,148...|\n",
      "|<p>I am trying to...|[<p>i, am, trying...|[<p>i, trying, pr...|[<p>i, trying, pr...|(50000,[0,2,8,24,...|(50000,[0,2,8,24,...|\n",
      "|<p>If I am select...|[<p>if, i, am, se...|[<p>if, selecting...|[<p>if, selecting...|(50000,[5,8,16,22...|(50000,[5,8,16,22...|\n",
      "|<p>For $a_1,a_2$ ...|[<p>for, $a_1,a_2...|[<p>for, $a_1,a_2...|[<p>for, $a_1,a_2...|(50000,[2,9,12,24...|(50000,[2,9,12,24...|\n",
      "|<p>Let's say I ha...|[<p>let's, say, i...|[<p>let's, say, t...|[<p>let's, say, t...|(50000,[0,13,20,2...|(50000,[0,13,20,2...|\n",
      "|<p>I have an $n\\t...|[<p>i, have, an, ...|[<p>i, $n\\times, ...|[<p>i, $n\\times, ...|(50000,[0,3,7,9,1...|(50000,[0,3,7,9,1...|\n",
      "|<p>Using Cohen's ...|[<p>using, cohen'...|[<p>using, cohen'...|[<p>using, cohen'...|(50000,[70,76,78,...|(50000,[70,76,78,...|\n",
      "|<p>I want to do m...|[<p>i, want, to, ...|[<p>i, want, mult...|[<p>i, want, mult...|(50000,[0,2,12,15...|(50000,[0,2,12,15...|\n",
      "|<p>Suppose you ha...|[<p>suppose, you,...|[<p>suppose, vari...|[<p>suppose, vari...|(50000,[2,5,14,21...|(50000,[2,5,14,21...|\n",
      "|<p>Suppose that I...|[<p>suppose, that...|[<p>suppose, inte...|[<p>suppose, inte...|(50000,[0,4,8,9,1...|(50000,[0,4,8,9,1...|\n",
      "+--------------------+--------------------+--------------------+--------------------+--------------------+--------------------+\n",
      "only showing top 20 rows\n",
      "\n"
     ]
    }
   ],
   "source": [
    "features.select('Body', 'words', 'stopwords', 'filtered', 'counts', 'features').show()"
   ]
  },
  {
   "cell_type": "code",
   "execution_count": 32,
   "id": "difficult-secretary",
   "metadata": {},
   "outputs": [],
   "source": [
    "row1 = features.take(1)"
   ]
  },
  {
   "cell_type": "code",
   "execution_count": 33,
   "id": "defined-seller",
   "metadata": {},
   "outputs": [
    {
     "data": {
      "text/plain": [
       "[Row(AcceptedAnswerId=None, AnswerCount=0, Body='<p>Say I have 5 binary variables and 2 normal variables. I want to get the probability of success, say one of the variable 1 or 0, 1 for success. How can I do that?</p>\\n\\n<p>I tried <code>glm(A~B+C+D+E, binomial, data)</code> in R.</p>\\n\\n<p>$A$ is a binary variable for which I want to know the probability of success. \\n$B$, $C$, $D$, $E$ are all binary variables. Am I doing right?</p>\\n', CommentCount=2, ContentLicense='CC BY-SA 3.0', CreationDate=datetime.datetime(2012, 3, 6, 3, 46, 32, 870000), FavoriteCount=None, Id=24181, LastActivityDate=datetime.datetime(2019, 12, 5, 13, 39, 19, 240000), OwnerUserId=9633, PostTypeId=1, Score=0, Tags='<r><regression><logistic><categorical-data><binary-data>', Title='Coding the regresssion model with several binary variables', ViewCount=120, words=['<p>say', 'i', 'have', '5', 'binary', 'variables', 'and', '2', 'normal', 'variables.', 'i', 'want', 'to', 'get', 'the', 'probability', 'of', 'success,', 'say', 'one', 'of', 'the', 'variable', '1', 'or', '0,', '1', 'for', 'success.', 'how', 'can', 'i', 'do', 'that?</p>', '', '<p>i', 'tried', '<code>glm(a~b+c+d+e,', 'binomial,', 'data)</code>', 'in', 'r.</p>', '', '<p>$a$', 'is', 'a', 'binary', 'variable', 'for', 'which', 'i', 'want', 'to', 'know', 'the', 'probability', 'of', 'success.', '', '$b$,', '$c$,', '$d$,', '$e$', 'are', 'all', 'binary', 'variables.', 'am', 'i', 'doing', 'right?</p>'], stopwords=['<p>say', '5', 'binary', 'variables', '2', 'normal', 'variables.', 'want', 'get', 'probability', 'success,', 'say', 'one', 'variable', '1', '0,', '1', 'success.', 'that?</p>', '', '<p>i', 'tried', '<code>glm(a~b+c+d+e,', 'binomial,', 'data)</code>', 'r.</p>', '', '<p>$a$', 'binary', 'variable', 'want', 'know', 'probability', 'success.', '', '$b$,', '$c$,', '$d$,', '$e$', 'binary', 'variables.', 'right?</p>'], filtered=['<p>say', '5', 'binary', 'variables', '2', 'normal', 'variables.', 'want', 'get', 'probability', 'success,', 'say', 'one', 'variable', '1', '0,', '1', 'success.', 'that?</p>', '<p>i', 'tried', '<code>glm(a~b+c+d+e,', 'binomial,', 'data)</code>', 'r.</p>', '<p>$a$', 'binary', 'variable', 'want', 'know', 'probability', 'success.', '$b$,', '$c$,', '$d$,', '$e$', 'binary', 'variables.', 'right?</p>'], counts=SparseVector(50000, {0: 1.0, 5: 2.0, 8: 1.0, 16: 1.0, 20: 1.0, 21: 2.0, 24: 2.0, 26: 1.0, 29: 1.0, 30: 1.0, 43: 2.0, 69: 1.0, 71: 1.0, 118: 1.0, 151: 1.0, 228: 3.0, 387: 2.0, 1223: 1.0, 2084: 1.0, 2116: 1.0, 2181: 1.0, 3625: 1.0, 4660: 1.0, 5256: 1.0, 6828: 2.0, 7191: 1.0, 8108: 1.0, 9698: 1.0, 36218: 1.0, 46710: 1.0}), features=SparseVector(50000, {0: 0.4947, 5: 3.6738, 8: 1.3518, 16: 2.0945, 20: 1.5819, 21: 3.2202, 24: 3.785, 26: 3.6889, 29: 1.9828, 30: 1.8264, 43: 4.7311, 69: 2.7673, 71: 2.3353, 118: 2.8485, 151: 2.8139, 228: 9.7439, 387: 6.9107, 1223: 4.5187, 2084: 5.1067, 2116: 5.1223, 2181: 5.1776, 3625: 5.9847, 4660: 6.2701, 5256: 6.5702, 6828: 13.3603, 7191: 6.8523, 8108: 7.0672, 9698: 7.2225, 36218: 8.8728, 46710: 9.2782}))]"
      ]
     },
     "execution_count": 33,
     "metadata": {},
     "output_type": "execute_result"
    }
   ],
   "source": [
    "row1"
   ]
  },
  {
   "cell_type": "code",
   "execution_count": 34,
   "id": "brown-newcastle",
   "metadata": {},
   "outputs": [],
   "source": [
    "idfModel = tfidf.stages[-1]"
   ]
  },
  {
   "cell_type": "code",
   "execution_count": 35,
   "id": "golden-childhood",
   "metadata": {},
   "outputs": [],
   "source": [
    "inverseFreq = idfModel.idf"
   ]
  },
  {
   "cell_type": "code",
   "execution_count": 36,
   "id": "adaptive-invasion",
   "metadata": {},
   "outputs": [
    {
     "data": {
      "text/plain": [
       "array([    0,     2,     3, ..., 48293, 26375, 43854])"
      ]
     },
     "execution_count": 36,
     "metadata": {},
     "output_type": "execute_result"
    }
   ],
   "source": [
    "inverseFreq.argsort()"
   ]
  },
  {
   "cell_type": "code",
   "execution_count": 37,
   "id": "rising-ceremony",
   "metadata": {},
   "outputs": [
    {
     "data": {
      "text/plain": [
       "[Tokenizer_fd24f6d38096,\n",
       " StopWordsRemover_f047fd13788e,\n",
       " StopWordsRemover_700654d73bc0,\n",
       " CountVectorizerModel: uid=CountVectorizer_119931c6c66d, vocabularySize=50000,\n",
       " IDFModel: uid=IDF_31a4dad0182f, numDocs=171236, numFeatures=50000]"
      ]
     },
     "execution_count": 37,
     "metadata": {},
     "output_type": "execute_result"
    }
   ],
   "source": [
    "tfidf.stages"
   ]
  },
  {
   "cell_type": "code",
   "execution_count": 38,
   "id": "proud-output",
   "metadata": {},
   "outputs": [],
   "source": [
    "cv = tfidf.stages[3]"
   ]
  },
  {
   "cell_type": "code",
   "execution_count": 39,
   "id": "thirty-combine",
   "metadata": {},
   "outputs": [],
   "source": [
    "vocab = cv.vocabulary"
   ]
  },
  {
   "cell_type": "code",
   "execution_count": 40,
   "id": "facial-hometown",
   "metadata": {},
   "outputs": [
    {
     "data": {
      "text/plain": [
       "array([37662, 36405, 31028, 39354, 42183, 32417, 18935, 26402, 20857,\n",
       "       26435, 38966, 45377, 14815, 18787, 47698, 26504, 26506, 48293,\n",
       "       26375, 43854])"
      ]
     },
     "execution_count": 40,
     "metadata": {},
     "output_type": "execute_result"
    }
   ],
   "source": [
    "inverseFreq.argsort()[-20:]"
   ]
  },
  {
   "cell_type": "code",
   "execution_count": 41,
   "id": "bound-plant",
   "metadata": {},
   "outputs": [
    {
     "data": {
      "text/plain": [
       "array(['<p>i', '</p>', 'data', 'using', 'use', 'one', 'model', 'like',\n",
       "       'two', 'know', 'want', '</code></pre>', '<a', 'different',\n",
       "       'rel=\"nofollow', '<p>the', 'question', 'get', '1', 'test'],\n",
       "      dtype='<U108')"
      ]
     },
     "execution_count": 41,
     "metadata": {},
     "output_type": "execute_result"
    }
   ],
   "source": [
    "np.array(vocab)[inverseFreq.argsort()[:20]]"
   ]
  },
  {
   "cell_type": "markdown",
   "id": "opposite-syndrome",
   "metadata": {},
   "source": [
    "## LDA"
   ]
  },
  {
   "cell_type": "code",
   "execution_count": 42,
   "id": "noted-politics",
   "metadata": {},
   "outputs": [],
   "source": [
    "lda = LDA(k=10, featuresCol=\"counts\", seed=1, optimizer='online', maxIter=100, optimizeDocConcentration=True)"
   ]
  },
  {
   "cell_type": "code",
   "execution_count": 43,
   "id": "spread-central",
   "metadata": {},
   "outputs": [],
   "source": [
    "#model = lda.fit(features)"
   ]
  },
  {
   "cell_type": "code",
   "execution_count": 44,
   "id": "proved-medication",
   "metadata": {
    "tags": []
   },
   "outputs": [],
   "source": [
    "#model.save('lda')"
   ]
  },
  {
   "cell_type": "code",
   "execution_count": 45,
   "id": "processed-herald",
   "metadata": {},
   "outputs": [],
   "source": [
    "model = LocalLDAModel.load('lda')"
   ]
  },
  {
   "cell_type": "code",
   "execution_count": 55,
   "id": "sexual-neighbor",
   "metadata": {
    "tags": []
   },
   "outputs": [
    {
     "name": "stdout",
     "output_type": "stream",
     "text": [
      "The lower bound on the log likelihood of the entire corpus: -119081485.3627363\n",
      "The upper bound on perplexity: 8.14193686951193\n"
     ]
    }
   ],
   "source": [
    "ll = model.logLikelihood(features)\n",
    "lp = model.logPerplexity(features)\n",
    "print(\"The lower bound on the log likelihood of the entire corpus: \" + str(ll))\n",
    "print(\"The upper bound on perplexity: \" + str(lp))"
   ]
  },
  {
   "cell_type": "code",
   "execution_count": 64,
   "id": "ruled-smooth",
   "metadata": {},
   "outputs": [
    {
     "name": "stdout",
     "output_type": "stream",
     "text": [
      "+-----+----------------------------------------------------------------------+----------------------------------------------------------------------+\n",
      "|topic|                                                           termIndices|                                                           termWeights|\n",
      "+-----+----------------------------------------------------------------------+----------------------------------------------------------------------+\n",
      "|    0|[3, 0, 2, 7, 4, 91, 9, 37, 15, 12, 8, 17, 159, 191, 18, 92, 21, 22,...|[0.013141326666310163, 0.012424386127699442, 0.00861319325597771, 0...|\n",
      "|    1|[6, 5, 26, 16, 34, 45, 61, 10, 69, 38, 247, 149, 56, 240, 251, 107,...|[0.06921664006423338, 0.06365012212467511, 0.03344424393537582, 0.0...|\n",
      "|    2|[290, 911, 10, 1068, 1613, 5, 1732, 1487, 613, 105, 34, 885, 243, 1...|[0.03387200541473163, 0.019301730211782497, 0.011214982561593291, 0...|\n",
      "|    3|[4, 0, 2, 3, 25, 24, 7, 19, 29, 14, 9, 13, 15, 8, 18, 12, 50, 78, 5...|[0.01474952352962792, 0.014368291127175335, 0.01208143484848865, 0....|\n",
      "|    4|[1, 2, 0, 23, 109, 27, 40, 17, 15, 20, 207, 44, 43, 42, 28, 89, 291...|[0.06927806632796703, 0.010717418610710348, 0.008895425429050734, 0...|\n",
      "|    5|[38, 56, 156, 102, 313, 550, 746, 979, 1025, 1447, 1325, 1786, 45, ...|[0.1470154036764743, 0.10203789922197033, 0.050334169326996636, 0.0...|\n",
      "|    6|[164, 605, 51, 1407, 765, 1453, 1, 2653, 1020, 2990, 2874, 3363, 10...|[0.047365132037370306, 0.03242343003847875, 0.012871772074617021, 0...|\n",
      "|    7|[0, 2, 3, 31, 8, 22, 13, 23, 12, 43, 9, 14, 28, 20, 21, 18, 36, 7, ...|[0.010130343144665481, 0.009635892886513843, 0.007660092663442513, ...|\n",
      "|    8|[11, 10, 51, 46, 75, 126, 6, 5, 3, 167, 4, 0, 74, 513, 40, 7, 557, ...|[0.06115580508960871, 0.03110618724947347, 0.02365394421963232, 0.0...|\n",
      "|    9|[375, 176, 300, 434, 490, 45, 26, 807, 1035, 1074, 739, 2891, 3229,...|[0.06057562709203634, 0.035727856234256394, 0.03365479298987111, 0....|\n",
      "+-----+----------------------------------------------------------------------+----------------------------------------------------------------------+\n",
      "\n"
     ]
    }
   ],
   "source": [
    "topics = model.describeTopics(50)\n",
    "topics.show(truncate=70)"
   ]
  },
  {
   "cell_type": "code",
   "execution_count": 47,
   "id": "hazardous-genesis",
   "metadata": {
    "tags": []
   },
   "outputs": [
    {
     "name": "stdout",
     "output_type": "stream",
     "text": [
      "+----------------------------------------------------------------------+----------------------------------------------------------------------+\n",
      "|                                                                 Title|                                                     topicDistribution|\n",
      "+----------------------------------------------------------------------+----------------------------------------------------------------------+\n",
      "|            Coding the regresssion model with several binary variables|[0.0022535909771216624,0.17188763823549483,0.0011567043893364174,0....|\n",
      "|   Why dummy variables rather than one \"factor\" variable in modelling?|[0.0033929181750065383,0.0021703276873766783,0.00174149241075022,0....|\n",
      "|          Binomial random variables versus chi-square for A/B testing?|[0.12137970785037135,0.05064127244349029,0.010864431247392423,0.348...|\n",
      "|                                                   Analyze proportions|[0.1365842293355517,0.027755828970609565,0.02104989227097788,0.4009...|\n",
      "|Simulating financial strategies with given value-at-risk (VaR) and ...|[0.2605881426690716,0.05212743557072696,0.020729092574631243,0.0018...|\n",
      "|                  Multiple regression with constraints on coefficients|[0.001485956799124963,0.041122855531792596,7.626903036825937E-4,0.7...|\n",
      "|       Winning percentage -- logistic regression or linear regression?|[0.07525180601958831,5.770374347314223E-4,4.6302041389829576E-4,0.4...|\n",
      "|                         Chi-square test problem (and some more maybe)|[0.05476214033117334,3.7028786536209417E-4,2.971225833826683E-4,0.1...|\n",
      "|                  Using a random variable to represent a distribution?|[0.06785651964171853,0.0020890841690511916,0.0016763018152692942,0....|\n",
      "|                      Treating a variable as categorical or continuous|[0.0035303493129880976,0.14799040651654397,0.0018119586389725821,0....|\n",
      "|                       Is it ever good to increase significance level?|[0.006361685945795462,0.004069423443694437,0.0032653456230881755,0....|\n",
      "|                           Gibbs sampler from conditional distribution|[0.0029361933584335985,0.027830527759152335,0.001507057379623665,0....|\n",
      "|What is the probability of n people from a list of m people being i...|[0.0011523013560644161,0.24966041281072146,5.914437801742711E-4,0.0...|\n",
      "|               Perturbations of rational numbers with random variables|[0.002196810586659323,0.0014052399447623872,0.0011275784268415777,0...|\n",
      "|                   How can I calculate central moments of a joint pdf?|[6.33526092174389E-4,4.052426398216934E-4,3.251705497436115E-4,0.06...|\n",
      "|                               Mahalanobis distance via PCA when $n<p$|[0.327153931474952,0.04231388980396499,3.533985272539864E-4,0.00103...|\n",
      "|                              Effect size and statistical significance|[0.006361729189547629,0.004069423451652256,0.003265345623219699,0.4...|\n",
      "|           How to choose the best transformation to achieve linearity?|[0.24775273086295876,5.43329887664377E-4,4.359732121514557E-4,0.673...|\n",
      "|                                                     Interaction terms|[0.00466194139637811,0.002982149399731188,0.08361335702496467,0.690...|\n",
      "|            Cross validation for transformed and untransformed outcome|[0.04771461657094945,0.0319307407040704,4.490899408990379E-4,0.3820...|\n",
      "+----------------------------------------------------------------------+----------------------------------------------------------------------+\n",
      "only showing top 20 rows\n",
      "\n"
     ]
    }
   ],
   "source": [
    "categorized = model.transform(features)\n",
    "categorized.select('Title', 'topicDistribution').show(truncate=70)"
   ]
  },
  {
   "cell_type": "code",
   "execution_count": 48,
   "id": "alive-enforcement",
   "metadata": {},
   "outputs": [
    {
     "name": "stdout",
     "output_type": "stream",
     "text": [
      "root\n",
      " |-- AcceptedAnswerId: long (nullable = true)\n",
      " |-- AnswerCount: long (nullable = true)\n",
      " |-- Body: string (nullable = true)\n",
      " |-- CommentCount: long (nullable = true)\n",
      " |-- ContentLicense: string (nullable = true)\n",
      " |-- CreationDate: timestamp (nullable = true)\n",
      " |-- FavoriteCount: long (nullable = true)\n",
      " |-- Id: long (nullable = true)\n",
      " |-- LastActivityDate: timestamp (nullable = true)\n",
      " |-- OwnerUserId: long (nullable = true)\n",
      " |-- PostTypeId: long (nullable = true)\n",
      " |-- Score: long (nullable = true)\n",
      " |-- Tags: string (nullable = true)\n",
      " |-- Title: string (nullable = true)\n",
      " |-- ViewCount: long (nullable = true)\n",
      " |-- words: array (nullable = true)\n",
      " |    |-- element: string (containsNull = true)\n",
      " |-- stopwords: array (nullable = true)\n",
      " |    |-- element: string (containsNull = true)\n",
      " |-- filtered: array (nullable = true)\n",
      " |    |-- element: string (containsNull = true)\n",
      " |-- counts: vector (nullable = true)\n",
      " |-- features: vector (nullable = true)\n",
      " |-- topicDistribution: vector (nullable = true)\n",
      "\n"
     ]
    }
   ],
   "source": [
    "categorized.printSchema()"
   ]
  },
  {
   "cell_type": "markdown",
   "id": "ranging-denmark",
   "metadata": {},
   "source": [
    "## Interpreting LDA"
   ]
  },
  {
   "cell_type": "code",
   "execution_count": 65,
   "id": "unlimited-beast",
   "metadata": {},
   "outputs": [],
   "source": [
    "topicsDF = topics.toPandas()"
   ]
  },
  {
   "cell_type": "code",
   "execution_count": 66,
   "id": "molecular-melissa",
   "metadata": {},
   "outputs": [],
   "source": [
    "_, _, _, vectorizerModel, _ = tfidf.stages"
   ]
  },
  {
   "cell_type": "code",
   "execution_count": 67,
   "id": "personalized-preparation",
   "metadata": {},
   "outputs": [
    {
     "data": {
      "text/plain": [
       "['<p>i', '<span', '</p>', 'data', 'model', '1', '0', 'using', 'one', 'use']"
      ]
     },
     "execution_count": 67,
     "metadata": {},
     "output_type": "execute_result"
    }
   ],
   "source": [
    "vectorizerModel.vocabulary[:10]"
   ]
  },
  {
   "cell_type": "code",
   "execution_count": 68,
   "id": "further-adult",
   "metadata": {},
   "outputs": [],
   "source": [
    "vocab = np.array(vectorizerModel.vocabulary)"
   ]
  },
  {
   "cell_type": "code",
   "execution_count": 69,
   "id": "dirty-lying",
   "metadata": {},
   "outputs": [],
   "source": [
    "topicsDF['words'] = topicsDF.termIndices.apply(lambda x: vocab[x])"
   ]
  },
  {
   "cell_type": "code",
   "execution_count": 70,
   "id": "hairy-liechtenstein",
   "metadata": {
    "tags": []
   },
   "outputs": [
    {
     "name": "stdout",
     "output_type": "stream",
     "text": [
      "['data' '<p>i' '</p>' 'using' 'model' 'training' 'use' 'set'\n",
      " 'rel=\"nofollow' 'like' 'one' '<a' 'learning' 'features' 'different'\n",
      " 'dataset' 'want' 'number' 'feature' 'image' 'used' 'class' 'get' 'test'\n",
      " 'network' 'input' 'classification' 'neural' 'values' 'algorithm' 'know'\n",
      " 'output' 'problem' 'function' 'two' 'train' 'way' 'new' 'trying' 'find'\n",
      " 'machine' 'accuracy' 'best' 'also' '<p>the' 'noreferrer\"><img'\n",
      " 'understand' \"<p>i'm\" 'anova' '<p><a']\n",
      "\n",
      "\n",
      "\n",
      "['0' '1' '0,' '2' '3' '1,' '4' '</code></pre>' '5' '1l,' '***' '6' '2l,'\n",
      " '7' '8' '10' '(intercept)' '0l,' 'data' '9' 'well' '2,' 'value' '&lt;'\n",
      " 'std.' '12' '11' '0.1' 'df' 'estimate' 'error' '0.001' '&gt;' '3l,'\n",
      " '0.05' '0.' '---' 'degrees' '0.01' '&lt;-' '15' '<p>i' '3,' '13'\n",
      " 'freedom' 'codes:' 'datasets' '<pre><code>' 'signif.' 'b']\n",
      "\n",
      "\n",
      "\n",
      "['na' '0.00' '</code></pre>' '0.0' '1.00' '1' '0.2' 'questions:</p>'\n",
      " '0.01' 'b' '3' '0.5' 'c' '2' '1.0' '3rd' 'median' 'mean' '<pre><code>'\n",
      " 'plant' '4' 'tests,' 'data' 'min.' '0.1' 'study,' '\\\\hat' '<p>i' '0.15'\n",
      " '0.05' '1.5' '0.25' 'sizes,' 'misunderstanding' 'numbers.' 'referring'\n",
      " '65' 'qu.' '5' 'method?</p>' 'cdf' 'well' '96' '10' 'loadings'\n",
      " 'proportion' '2.5' 'test' '250' 'comparisons.']\n",
      "\n",
      "\n",
      "\n",
      "['model' '<p>i' '</p>' 'data' 'regression' 'variable' 'using' 'time'\n",
      " 'variables' 'test' 'use' 'two' 'rel=\"nofollow' 'one' 'different' 'like'\n",
      " 'linear' 'effect' 'noreferrer\"><img' 'description' 'image' 'alt=\"enter'\n",
      " 'want' '</code></pre>' 'analysis' '<a' '<p><a' 'models' 'know' 'values'\n",
      " 'also' 'fit' 'r' 'random' 'dependent' 'significant' 'effects' 'get' 'way'\n",
      " 'used' 'question' '<p>the' 'series' 'independent' 'value' 'group'\n",
      " 'correlation' 'here\"></a></p>' 'run' 'whether']\n",
      "\n",
      "\n",
      "\n",
      "['<span' '</p>' '<p>i' 'distribution' '<p><span' 'random' 'function' '<a'\n",
      " 'rel=\"nofollow' 'know' '$$' 'given' 'probability' 'find' 'mean' 'matrix'\n",
      " '\\\\sim' 'following' 'variance' '<p>the' '\\\\in' 'x' 'two' 'question'\n",
      " 'variable' 'class=\"math-container\">$$' 'likelihood' 'sample' 'understand'\n",
      " 'normal' '$x$' 'one' 'get' 'variables' 'value' '<p>where' 'estimate'\n",
      " 'covariance' 'using' '<p>in' 'linear' '<blockquote>' '</blockquote>'\n",
      " '$$</p>' 'density' 'also' 'like' 'estimator' 'use' 'vector']\n",
      "\n",
      "\n",
      "\n",
      "['1l,' '2l,' '3l,' '0l,' '4l,' '5l,' '6l,' '8l,' '7l,' '9l,' '10l,' 'mind'\n",
      " '1,' 'recent' '13l,' '<pre><code>call:' 'class' 'constraint' 'knows'\n",
      " '12l,' 'step,' '17l,' 'surface' 'successes' '23l,' '28l,' 'used,' '26l,'\n",
      " 'picked' 'cointegration' '21l,' 'popular' 'visits' 'gone' 'theorem,'\n",
      " '&gt;&gt;&gt;' '36l,' 'filters' 'actions' 'names' '<code>n</code>' 'ends'\n",
      " 'm2' '1;' '\\\\end{equation}</span></p>' 'flat' 'sgd' '<p>specifically,'\n",
      " '(none,' 'estimates.']\n",
      "\n",
      "\n",
      "\n",
      "['\\\\\\\\' '&amp;=' '&amp;' '\\\\right)' '\\\\cdot' '\\\\left(' '<span'\n",
      " 'multicollinearity' '<p>why' 'unless' '\\\\left[' 'b2' '\\\\mid'\n",
      " 'conditions.' '\\\\begin{align}' 'noreferrer\">this' 'are.' '\"b\",'\n",
      " 'correct.</p>' 'property' '\\\\log' '</p>' '2012' 'additionally,' '\\\\bar'\n",
      " 'gene' 'stimulus' '$$</p>' 'models:' '\\\\vert' '$$' 'interpreted'\n",
      " 'possible,' '\\\\sum' '<p>$$' 'agree,' '<p>i' 'help?</p>' '\\\\le' '(even'\n",
      " 'x.' '1' '\\\\mu' 'x' 'implementations' 'temperatures' '(such' 'tests.'\n",
      " '\\\\dots' 'n=']\n",
      "\n",
      "\n",
      "\n",
      "['<p>i' '</p>' 'data' 'sample' 'one' 'number' 'two' 'distribution' 'like'\n",
      " 'probability' 'use' 'test' 'mean' 'know' 'want' 'different' 'question'\n",
      " 'using' 'standard' '<a' 'given' 'way' 'time' 'get' 'value' '<p>the'\n",
      " 'also' 'find' 'say' 'values' 'calculate' 'confidence' 'need' 'population'\n",
      " 'size' 'set' 'many' 'samples' 'random' 'first' 'people' 'problem'\n",
      " 'statistical' 'estimate' 'average' 'whether' 'used' 'make' 'group'\n",
      " 'based']\n",
      "\n",
      "\n",
      "\n",
      "['&lt;-' '</code></pre>' '&amp;' 'x' 'y' '&gt;' '0' '1' 'data' 'code'\n",
      " 'model' '<p>i' 'r' '##' 'function' 'using' 'anything' 'matrix' '\\\\\\\\' 'n'\n",
      " 'get' '0.000' '==' '1,' 'following' 'values' '</p>' 'x1' 'error' 'x2'\n",
      " 'import' 'mean' '<pre><code>' 'fit' '<p>the' 'value' 'return' '%&gt;%'\n",
      " 'p' '#&gt;' '1)' '2' '0,' 'results' '&lt;' 'z' 'df' '<a' 'b' 'number']\n",
      "\n",
      "\n",
      "\n",
      "['na,' '2,' '3,' '4,' '5,' '1,' '0,' '6,' '7,' 'inverse' '10,'\n",
      " '0.111111111111111,' '0.0555555555555556,' '9,' '12,' 'similar,' '11,'\n",
      " '0.0,' '16l,' '0.5,' 'pieces' 'classification,' 'fact,' 'integers'\n",
      " '<p>edit' 'perfectly' 'throughout' '4.5,' '(by' '13,' 'depression'\n",
      " '\\\\implies' '15,' 'leaving' 'controls' 'hmm' 'draws' '0.3,' 'stat'\n",
      " 'likelihoods' 'p)' '$e$' 'professor' 'appreciated,' 'distribution)'\n",
      " '[...]' 'way?</p>' 'adds' 'sequential' '</code></pre>']\n",
      "\n",
      "\n",
      "\n"
     ]
    }
   ],
   "source": [
    "for t in topicsDF.words:\n",
    "    print(t)\n",
    "    print('\\n\\n')"
   ]
  },
  {
   "cell_type": "code",
   "execution_count": 49,
   "id": "shared-cameroon",
   "metadata": {},
   "outputs": [],
   "source": [
    "from pyspark.ml.functions import vector_to_array"
   ]
  },
  {
   "cell_type": "code",
   "execution_count": 50,
   "id": "understood-aberdeen",
   "metadata": {},
   "outputs": [],
   "source": [
    "topicDist = categorized.withColumn('topicArray', vector_to_array(col('topicDistribution'))) \\\n",
    "           .select('Title', *[col('topicArray')[i] for i in range(model.getK())]).cache()"
   ]
  },
  {
   "cell_type": "code",
   "execution_count": 79,
   "id": "charming-pharmacology",
   "metadata": {
    "tags": []
   },
   "outputs": [
    {
     "name": "stdout",
     "output_type": "stream",
     "text": [
      "+------------------------------------------------------------------------------------------------------------+------------------+\n",
      "|                                                                                                       Title|     topicArray[7]|\n",
      "+------------------------------------------------------------------------------------------------------------+------------------+\n",
      "|                                                                    Taking the difference of two MCMC chains|0.9954692277129832|\n",
      "|    Why does significance not equal validity? Why can't I stop a test as soon as it has significant results?|0.9950423499337309|\n",
      "|                                                         One-sample Wilcoxon test result does not make sense|0.9947278191159741|\n",
      "|                                                      Statistical testing against empirical density function|0.9940187262769482|\n",
      "|                                   How to compare the distances or divergence between two groups of datasets|0.9937591002140447|\n",
      "|                                                                                           Fair coin testing|0.9934057395870184|\n",
      "|                                                                                       P-Value Clarification|0.9931715238790092|\n",
      "|                                                                        Interpretation of power calculations|0.9931699136840867|\n",
      "|                               Is there a ranking metric based on percentages that favors larger magnitudes?|0.9930075182465744|\n",
      "|                                                                    Repeated testing to increase confidence?|0.9929202566990674|\n",
      "|                                    Back-calculation of the minimum sample size for an mechanical experiment|0.9926518682429085|\n",
      "|                                          How to calculate the 95% CI of the difference in population means?|0.9925547205436139|\n",
      "|                                                      How to correlate statistics empirical rule to P value?|0.9923610222548769|\n",
      "|                                         Help Beginner Q: Explanation on pooled variance and when it is used|0.9923595185281282|\n",
      "|                                                                                      Separate distributions|0.9921540852618329|\n",
      "|                                                             How can I tell if this is a significant result?|0.9920435395893954|\n",
      "|How to estimate the probability of a rare event about which observations can only be made in quantized time?|0.9919317484527409|\n",
      "|                                                                      How to solve the ball drawing problem?|0.9919310207256696|\n",
      "|            Does it make sense to correlate overall calculated value and values that add up to this overall?|0.9918196332928629|\n",
      "|                                                   Difference between Sampling a population Vs Bootstrapping|0.9917033994066788|\n",
      "+------------------------------------------------------------------------------------------------------------+------------------+\n",
      "\n"
     ]
    }
   ],
   "source": [
    "# print top 10 documents for Topic 8\n",
    "topicDist.orderBy('topicArray[7]', ascending=False) \\\n",
    "           .limit(20) \\\n",
    "           .select('Title', 'topicArray[7]').show(truncate=120)"
   ]
  },
  {
   "cell_type": "markdown",
   "id": "stunning-genetics",
   "metadata": {},
   "source": [
    "## Cross Validation"
   ]
  },
  {
   "cell_type": "code",
   "execution_count": null,
   "id": "interior-chapter",
   "metadata": {},
   "outputs": [],
   "source": [
    "num_topics = [5, 20, 50]\n",
    "\n",
    "paramGrid = ParamGridBuilder() \\\n",
    "    .addGrid(lda.k, num_topics) \\\n",
    "    .build()"
   ]
  },
  {
   "cell_type": "code",
   "execution_count": null,
   "id": "acquired-cream",
   "metadata": {},
   "outputs": [],
   "source": [
    "modelVal = lda.fitMultiple(features, paramMaps = paramGrid)"
   ]
  }
 ],
 "metadata": {
  "kernelspec": {
   "display_name": "Python 3",
   "language": "python",
   "name": "python3"
  },
  "language_info": {
   "codemirror_mode": {
    "name": "ipython",
    "version": 3
   },
   "file_extension": ".py",
   "mimetype": "text/x-python",
   "name": "python",
   "nbconvert_exporter": "python",
   "pygments_lexer": "ipython3",
   "version": "3.8.8"
  }
 },
 "nbformat": 4,
 "nbformat_minor": 5
}
